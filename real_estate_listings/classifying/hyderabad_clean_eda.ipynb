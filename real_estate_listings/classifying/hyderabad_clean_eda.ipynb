{
 "cells": [
  {
   "cell_type": "code",
   "execution_count": 1,
   "metadata": {
    "ExecuteTime": {
     "end_time": "2020-02-20T04:25:23.417631Z",
     "start_time": "2020-02-20T04:25:21.490869Z"
    }
   },
   "outputs": [],
   "source": [
    "import pandas as pd\n",
    "import numpy as np\n",
    "from is_slum import get_slum_val\n",
    "from sklearn.linear_model import LinearRegression\n",
    "from sklearn.model_selection import train_test_split\n",
    "from sklearn.ensemble import RandomForestClassifier"
   ]
  },
  {
   "cell_type": "code",
   "execution_count": 2,
   "metadata": {
    "ExecuteTime": {
     "end_time": "2020-02-20T04:25:23.474425Z",
     "start_time": "2020-02-20T04:25:23.420368Z"
    }
   },
   "outputs": [],
   "source": [
    "df = pd.read_csv('../data/hyderabad/geocoded.csv')"
   ]
  },
  {
   "cell_type": "code",
   "execution_count": 3,
   "metadata": {
    "ExecuteTime": {
     "end_time": "2020-02-20T04:25:23.506405Z",
     "start_time": "2020-02-20T04:25:23.477370Z"
    }
   },
   "outputs": [
    {
     "data": {
      "text/html": [
       "<div>\n",
       "<style scoped>\n",
       "    .dataframe tbody tr th:only-of-type {\n",
       "        vertical-align: middle;\n",
       "    }\n",
       "\n",
       "    .dataframe tbody tr th {\n",
       "        vertical-align: top;\n",
       "    }\n",
       "\n",
       "    .dataframe thead th {\n",
       "        text-align: right;\n",
       "    }\n",
       "</style>\n",
       "<table border=\"1\" class=\"dataframe\">\n",
       "  <thead>\n",
       "    <tr style=\"text-align: right;\">\n",
       "      <th></th>\n",
       "      <th>price</th>\n",
       "      <th>title</th>\n",
       "      <th>furnishing</th>\n",
       "      <th>tenants preferred</th>\n",
       "      <th>bathroom</th>\n",
       "      <th>availability</th>\n",
       "      <th>longitude</th>\n",
       "      <th>latitude</th>\n",
       "      <th>balcony</th>\n",
       "      <th>floor</th>\n",
       "      <th>facing</th>\n",
       "      <th>overlooking</th>\n",
       "      <th>car parking</th>\n",
       "      <th>owner resides</th>\n",
       "      <th>address</th>\n",
       "      <th>gmaps_info</th>\n",
       "      <th>coord</th>\n",
       "    </tr>\n",
       "  </thead>\n",
       "  <tbody>\n",
       "    <tr>\n",
       "      <th>0</th>\n",
       "      <td>₹ 18,000</td>\n",
       "      <td>3 BHK House for rent in Gudimalkapur 1400 sqft</td>\n",
       "      <td>Unfurnished</td>\n",
       "      <td>Bachelors/Family</td>\n",
       "      <td>2</td>\n",
       "      <td>Immediately</td>\n",
       "      <td>78.437402</td>\n",
       "      <td>17.378782</td>\n",
       "      <td>NaN</td>\n",
       "      <td>NaN</td>\n",
       "      <td>NaN</td>\n",
       "      <td>NaN</td>\n",
       "      <td>NaN</td>\n",
       "      <td>NaN</td>\n",
       "      <td>Gudimalkapur, Hyderabad</td>\n",
       "      <td>[{'address_components': [{'long_name': 'Gudima...</td>\n",
       "      <td>(17.3787821, 78.4374024)</td>\n",
       "    </tr>\n",
       "    <tr>\n",
       "      <th>1</th>\n",
       "      <td>₹ 20,000</td>\n",
       "      <td>3 BHK Villa for rent in Shamshabad 1500 sqft</td>\n",
       "      <td>Unfurnished</td>\n",
       "      <td>Bachelors</td>\n",
       "      <td>3</td>\n",
       "      <td>From Mar '20</td>\n",
       "      <td>17.270166</td>\n",
       "      <td>78.393593</td>\n",
       "      <td>3</td>\n",
       "      <td>NaN</td>\n",
       "      <td>NaN</td>\n",
       "      <td>NaN</td>\n",
       "      <td>NaN</td>\n",
       "      <td>NaN</td>\n",
       "      <td>Shamshabad, Hyderabad</td>\n",
       "      <td>[{'address_components': [{'long_name': 'Shamsh...</td>\n",
       "      <td>(17.2619301, 78.387971)</td>\n",
       "    </tr>\n",
       "    <tr>\n",
       "      <th>2</th>\n",
       "      <td>₹ 5,800</td>\n",
       "      <td>1 BHK Apartment for rent in Vinayak Nagar II-H...</td>\n",
       "      <td>Unfurnished</td>\n",
       "      <td>Family</td>\n",
       "      <td>1</td>\n",
       "      <td>Immediately</td>\n",
       "      <td>78.598729</td>\n",
       "      <td>17.331128</td>\n",
       "      <td>1</td>\n",
       "      <td>1 out of 1 Floor</td>\n",
       "      <td>East</td>\n",
       "      <td>Main Road</td>\n",
       "      <td>NaN</td>\n",
       "      <td>NaN</td>\n",
       "      <td>Vinayak Nagar II-Hayathnagar, Hyderabad</td>\n",
       "      <td>[{'address_components': [{'long_name': 'Vinaya...</td>\n",
       "      <td>(17.3311276, 78.5987291)</td>\n",
       "    </tr>\n",
       "    <tr>\n",
       "      <th>3</th>\n",
       "      <td>₹ 14,000</td>\n",
       "      <td>2 BHK Apartment for rent in Kukatpally, NH 9 1...</td>\n",
       "      <td>Semi-Furnished</td>\n",
       "      <td>Bachelors/Family</td>\n",
       "      <td>2</td>\n",
       "      <td>Immediately</td>\n",
       "      <td>78.399146</td>\n",
       "      <td>17.494868</td>\n",
       "      <td>NaN</td>\n",
       "      <td>2 out of 5 Floors</td>\n",
       "      <td>NaN</td>\n",
       "      <td>NaN</td>\n",
       "      <td>NaN</td>\n",
       "      <td>NaN</td>\n",
       "      <td>Kukatpally, NH 9, Hyderabad</td>\n",
       "      <td>[{'address_components': [{'long_name': 'Nation...</td>\n",
       "      <td>(17.4948682, 78.3991456)</td>\n",
       "    </tr>\n",
       "    <tr>\n",
       "      <th>4</th>\n",
       "      <td>₹ 20,000</td>\n",
       "      <td>3 BHK Apartment for rent in Dellapur 1560 sqft</td>\n",
       "      <td>Semi-Furnished</td>\n",
       "      <td>Bachelors/Family</td>\n",
       "      <td>2</td>\n",
       "      <td>Immediately</td>\n",
       "      <td>78.286481</td>\n",
       "      <td>17.463172</td>\n",
       "      <td>NaN</td>\n",
       "      <td>5 out of 5 Floors</td>\n",
       "      <td>NaN</td>\n",
       "      <td>NaN</td>\n",
       "      <td>NaN</td>\n",
       "      <td>NaN</td>\n",
       "      <td>Dellapur, Hyderabad</td>\n",
       "      <td>[{'address_components': [{'long_name': 'Tellap...</td>\n",
       "      <td>(17.463172, 78.2864815)</td>\n",
       "    </tr>\n",
       "  </tbody>\n",
       "</table>\n",
       "</div>"
      ],
      "text/plain": [
       "      price                                              title  \\\n",
       "0  ₹ 18,000     3 BHK House for rent in Gudimalkapur 1400 sqft   \n",
       "1  ₹ 20,000       3 BHK Villa for rent in Shamshabad 1500 sqft   \n",
       "2   ₹ 5,800  1 BHK Apartment for rent in Vinayak Nagar II-H...   \n",
       "3  ₹ 14,000  2 BHK Apartment for rent in Kukatpally, NH 9 1...   \n",
       "4  ₹ 20,000     3 BHK Apartment for rent in Dellapur 1560 sqft   \n",
       "\n",
       "       furnishing tenants preferred bathroom  availability  longitude  \\\n",
       "0     Unfurnished  Bachelors/Family        2   Immediately  78.437402   \n",
       "1     Unfurnished         Bachelors        3  From Mar '20  17.270166   \n",
       "2     Unfurnished            Family        1   Immediately  78.598729   \n",
       "3  Semi-Furnished  Bachelors/Family        2   Immediately  78.399146   \n",
       "4  Semi-Furnished  Bachelors/Family        2   Immediately  78.286481   \n",
       "\n",
       "    latitude balcony              floor facing overlooking car parking  \\\n",
       "0  17.378782     NaN                NaN    NaN         NaN         NaN   \n",
       "1  78.393593       3                NaN    NaN         NaN         NaN   \n",
       "2  17.331128       1   1 out of 1 Floor   East   Main Road         NaN   \n",
       "3  17.494868     NaN  2 out of 5 Floors    NaN         NaN         NaN   \n",
       "4  17.463172     NaN  5 out of 5 Floors    NaN         NaN         NaN   \n",
       "\n",
       "  owner resides                                   address  \\\n",
       "0           NaN                   Gudimalkapur, Hyderabad   \n",
       "1           NaN                     Shamshabad, Hyderabad   \n",
       "2           NaN   Vinayak Nagar II-Hayathnagar, Hyderabad   \n",
       "3           NaN               Kukatpally, NH 9, Hyderabad   \n",
       "4           NaN                       Dellapur, Hyderabad   \n",
       "\n",
       "                                          gmaps_info                     coord  \n",
       "0  [{'address_components': [{'long_name': 'Gudima...  (17.3787821, 78.4374024)  \n",
       "1  [{'address_components': [{'long_name': 'Shamsh...   (17.2619301, 78.387971)  \n",
       "2  [{'address_components': [{'long_name': 'Vinaya...  (17.3311276, 78.5987291)  \n",
       "3  [{'address_components': [{'long_name': 'Nation...  (17.4948682, 78.3991456)  \n",
       "4  [{'address_components': [{'long_name': 'Tellap...   (17.463172, 78.2864815)  "
      ]
     },
     "execution_count": 3,
     "metadata": {},
     "output_type": "execute_result"
    }
   ],
   "source": [
    "df.head()"
   ]
  },
  {
   "cell_type": "code",
   "execution_count": 4,
   "metadata": {
    "ExecuteTime": {
     "end_time": "2020-02-20T04:25:23.518369Z",
     "start_time": "2020-02-20T04:25:23.508375Z"
    }
   },
   "outputs": [
    {
     "data": {
      "text/plain": [
       "(price                   0\n",
       " title                   0\n",
       " furnishing            388\n",
       " tenants preferred     379\n",
       " bathroom              394\n",
       " availability          379\n",
       " longitude               1\n",
       " latitude                1\n",
       " balcony              1245\n",
       " floor                 564\n",
       " facing               1302\n",
       " overlooking          1641\n",
       " car parking          1765\n",
       " owner resides        2230\n",
       " address                 0\n",
       " gmaps_info              0\n",
       " coord                   0\n",
       " dtype: int64,\n",
       " (2309, 17))"
      ]
     },
     "execution_count": 4,
     "metadata": {},
     "output_type": "execute_result"
    }
   ],
   "source": [
    "df.isna().sum(), df.shape"
   ]
  },
  {
   "cell_type": "code",
   "execution_count": 5,
   "metadata": {
    "ExecuteTime": {
     "end_time": "2020-02-20T04:25:23.537406Z",
     "start_time": "2020-02-20T04:25:23.520370Z"
    }
   },
   "outputs": [],
   "source": [
    "df.drop(columns=['owner resides', 'car parking', 'overlooking', 'facing', 'balcony'], inplace=True)"
   ]
  },
  {
   "cell_type": "code",
   "execution_count": 6,
   "metadata": {
    "ExecuteTime": {
     "end_time": "2020-02-20T04:25:23.558430Z",
     "start_time": "2020-02-20T04:25:23.539368Z"
    }
   },
   "outputs": [],
   "source": [
    "df.dropna(inplace=True)\n",
    "df.reset_index(inplace=True)"
   ]
  },
  {
   "cell_type": "code",
   "execution_count": 7,
   "metadata": {
    "ExecuteTime": {
     "end_time": "2020-02-20T04:25:49.162792Z",
     "start_time": "2020-02-20T04:25:23.560374Z"
    }
   },
   "outputs": [],
   "source": [
    "temp = []\n",
    "index = 0\n",
    "for i in range(len(df)):\n",
    "    index = i\n",
    "    temp.append(get_slum_val('hyderabad', (df['latitude'][i], df['longitude'][i])))\n"
   ]
  },
  {
   "cell_type": "code",
   "execution_count": 8,
   "metadata": {
    "ExecuteTime": {
     "end_time": "2020-02-20T04:25:49.171775Z",
     "start_time": "2020-02-20T04:25:49.165778Z"
    }
   },
   "outputs": [
    {
     "data": {
      "text/plain": [
       "1733"
      ]
     },
     "execution_count": 8,
     "metadata": {},
     "output_type": "execute_result"
    }
   ],
   "source": [
    "index"
   ]
  },
  {
   "cell_type": "code",
   "execution_count": 9,
   "metadata": {
    "ExecuteTime": {
     "end_time": "2020-02-20T04:25:49.190782Z",
     "start_time": "2020-02-20T04:25:49.174771Z"
    }
   },
   "outputs": [
    {
     "data": {
      "text/plain": [
       "index                                                               38\n",
       "price                                                         ₹ 15,000\n",
       "title                   3 BHK Apartment for rent in Kompally 1530 sqft\n",
       "furnishing                                              Semi-Furnished\n",
       "tenants preferred                                     Bachelors/Family\n",
       "bathroom                                                             3\n",
       "availability                                               Immediately\n",
       "longitude                                                      78.4845\n",
       "latitude                                                       17.5366\n",
       "floor                                                2 out of 4 Floors\n",
       "address                                            Kompally, Hyderabad\n",
       "gmaps_info           [{'address_components': [{'long_name': 'Kompal...\n",
       "coord                                         (17.5366218, 78.4844811)\n",
       "Name: 29, dtype: object"
      ]
     },
     "execution_count": 9,
     "metadata": {},
     "output_type": "execute_result"
    }
   ],
   "source": [
    "df.iloc[29]"
   ]
  },
  {
   "cell_type": "code",
   "execution_count": 10,
   "metadata": {
    "ExecuteTime": {
     "end_time": "2020-02-20T04:25:49.210755Z",
     "start_time": "2020-02-20T04:25:49.192796Z"
    }
   },
   "outputs": [],
   "source": [
    "df['is_slum'] = temp"
   ]
  },
  {
   "cell_type": "code",
   "execution_count": 11,
   "metadata": {
    "ExecuteTime": {
     "end_time": "2020-02-20T04:25:49.240758Z",
     "start_time": "2020-02-20T04:25:49.212759Z"
    }
   },
   "outputs": [
    {
     "data": {
      "text/html": [
       "<div>\n",
       "<style scoped>\n",
       "    .dataframe tbody tr th:only-of-type {\n",
       "        vertical-align: middle;\n",
       "    }\n",
       "\n",
       "    .dataframe tbody tr th {\n",
       "        vertical-align: top;\n",
       "    }\n",
       "\n",
       "    .dataframe thead th {\n",
       "        text-align: right;\n",
       "    }\n",
       "</style>\n",
       "<table border=\"1\" class=\"dataframe\">\n",
       "  <thead>\n",
       "    <tr style=\"text-align: right;\">\n",
       "      <th></th>\n",
       "      <th>index</th>\n",
       "      <th>price</th>\n",
       "      <th>title</th>\n",
       "      <th>furnishing</th>\n",
       "      <th>tenants preferred</th>\n",
       "      <th>bathroom</th>\n",
       "      <th>availability</th>\n",
       "      <th>longitude</th>\n",
       "      <th>latitude</th>\n",
       "      <th>floor</th>\n",
       "      <th>address</th>\n",
       "      <th>gmaps_info</th>\n",
       "      <th>coord</th>\n",
       "      <th>is_slum</th>\n",
       "    </tr>\n",
       "  </thead>\n",
       "  <tbody>\n",
       "    <tr>\n",
       "      <th>0</th>\n",
       "      <td>2</td>\n",
       "      <td>₹ 5,800</td>\n",
       "      <td>1 BHK Apartment for rent in Vinayak Nagar II-H...</td>\n",
       "      <td>Unfurnished</td>\n",
       "      <td>Family</td>\n",
       "      <td>1</td>\n",
       "      <td>Immediately</td>\n",
       "      <td>78.598729</td>\n",
       "      <td>17.331128</td>\n",
       "      <td>1 out of 1 Floor</td>\n",
       "      <td>Vinayak Nagar II-Hayathnagar, Hyderabad</td>\n",
       "      <td>[{'address_components': [{'long_name': 'Vinaya...</td>\n",
       "      <td>(17.3311276, 78.5987291)</td>\n",
       "      <td>0</td>\n",
       "    </tr>\n",
       "    <tr>\n",
       "      <th>1</th>\n",
       "      <td>3</td>\n",
       "      <td>₹ 14,000</td>\n",
       "      <td>2 BHK Apartment for rent in Kukatpally, NH 9 1...</td>\n",
       "      <td>Semi-Furnished</td>\n",
       "      <td>Bachelors/Family</td>\n",
       "      <td>2</td>\n",
       "      <td>Immediately</td>\n",
       "      <td>78.399146</td>\n",
       "      <td>17.494868</td>\n",
       "      <td>2 out of 5 Floors</td>\n",
       "      <td>Kukatpally, NH 9, Hyderabad</td>\n",
       "      <td>[{'address_components': [{'long_name': 'Nation...</td>\n",
       "      <td>(17.4948682, 78.3991456)</td>\n",
       "      <td>0</td>\n",
       "    </tr>\n",
       "    <tr>\n",
       "      <th>2</th>\n",
       "      <td>4</td>\n",
       "      <td>₹ 20,000</td>\n",
       "      <td>3 BHK Apartment for rent in Dellapur 1560 sqft</td>\n",
       "      <td>Semi-Furnished</td>\n",
       "      <td>Bachelors/Family</td>\n",
       "      <td>2</td>\n",
       "      <td>Immediately</td>\n",
       "      <td>78.286481</td>\n",
       "      <td>17.463172</td>\n",
       "      <td>5 out of 5 Floors</td>\n",
       "      <td>Dellapur, Hyderabad</td>\n",
       "      <td>[{'address_components': [{'long_name': 'Tellap...</td>\n",
       "      <td>(17.463172, 78.2864815)</td>\n",
       "      <td>0</td>\n",
       "    </tr>\n",
       "    <tr>\n",
       "      <th>3</th>\n",
       "      <td>5</td>\n",
       "      <td>₹ 45,000</td>\n",
       "      <td>3 BHK Builder Floor for rent in Whitefields 20...</td>\n",
       "      <td>Furnished</td>\n",
       "      <td>Bachelors/Family</td>\n",
       "      <td>3</td>\n",
       "      <td>Immediately</td>\n",
       "      <td>78.368490</td>\n",
       "      <td>17.455483</td>\n",
       "      <td>3 out of 5 Floors</td>\n",
       "      <td>Whitefields, Hyderabad</td>\n",
       "      <td>[{'address_components': [{'long_name': 'Whitef...</td>\n",
       "      <td>(17.4554835, 78.3684902)</td>\n",
       "      <td>0</td>\n",
       "    </tr>\n",
       "    <tr>\n",
       "      <th>4</th>\n",
       "      <td>6</td>\n",
       "      <td>₹ 21,000</td>\n",
       "      <td>3 BHK House for rent in Madhava Nagar Colony, ...</td>\n",
       "      <td>Semi-Furnished</td>\n",
       "      <td>Family</td>\n",
       "      <td>2</td>\n",
       "      <td>Immediately</td>\n",
       "      <td>78.361112</td>\n",
       "      <td>17.495290</td>\n",
       "      <td>1 out of 6 Floors</td>\n",
       "      <td>Madhava Nagar Colony, Miyapur, Hyderabad</td>\n",
       "      <td>[{'address_components': [{'long_name': 'Madhav...</td>\n",
       "      <td>(17.4952899, 78.3611116)</td>\n",
       "      <td>0</td>\n",
       "    </tr>\n",
       "  </tbody>\n",
       "</table>\n",
       "</div>"
      ],
      "text/plain": [
       "   index     price                                              title  \\\n",
       "0      2   ₹ 5,800  1 BHK Apartment for rent in Vinayak Nagar II-H...   \n",
       "1      3  ₹ 14,000  2 BHK Apartment for rent in Kukatpally, NH 9 1...   \n",
       "2      4  ₹ 20,000     3 BHK Apartment for rent in Dellapur 1560 sqft   \n",
       "3      5  ₹ 45,000  3 BHK Builder Floor for rent in Whitefields 20...   \n",
       "4      6  ₹ 21,000  3 BHK House for rent in Madhava Nagar Colony, ...   \n",
       "\n",
       "       furnishing tenants preferred bathroom availability  longitude  \\\n",
       "0     Unfurnished            Family        1  Immediately  78.598729   \n",
       "1  Semi-Furnished  Bachelors/Family        2  Immediately  78.399146   \n",
       "2  Semi-Furnished  Bachelors/Family        2  Immediately  78.286481   \n",
       "3       Furnished  Bachelors/Family        3  Immediately  78.368490   \n",
       "4  Semi-Furnished            Family        2  Immediately  78.361112   \n",
       "\n",
       "    latitude              floor                                    address  \\\n",
       "0  17.331128   1 out of 1 Floor    Vinayak Nagar II-Hayathnagar, Hyderabad   \n",
       "1  17.494868  2 out of 5 Floors                Kukatpally, NH 9, Hyderabad   \n",
       "2  17.463172  5 out of 5 Floors                        Dellapur, Hyderabad   \n",
       "3  17.455483  3 out of 5 Floors                     Whitefields, Hyderabad   \n",
       "4  17.495290  1 out of 6 Floors   Madhava Nagar Colony, Miyapur, Hyderabad   \n",
       "\n",
       "                                          gmaps_info  \\\n",
       "0  [{'address_components': [{'long_name': 'Vinaya...   \n",
       "1  [{'address_components': [{'long_name': 'Nation...   \n",
       "2  [{'address_components': [{'long_name': 'Tellap...   \n",
       "3  [{'address_components': [{'long_name': 'Whitef...   \n",
       "4  [{'address_components': [{'long_name': 'Madhav...   \n",
       "\n",
       "                      coord  is_slum  \n",
       "0  (17.3311276, 78.5987291)        0  \n",
       "1  (17.4948682, 78.3991456)        0  \n",
       "2   (17.463172, 78.2864815)        0  \n",
       "3  (17.4554835, 78.3684902)        0  \n",
       "4  (17.4952899, 78.3611116)        0  "
      ]
     },
     "execution_count": 11,
     "metadata": {},
     "output_type": "execute_result"
    }
   ],
   "source": [
    "df.head()"
   ]
  },
  {
   "cell_type": "code",
   "execution_count": 12,
   "metadata": {
    "ExecuteTime": {
     "end_time": "2020-02-20T04:25:49.258757Z",
     "start_time": "2020-02-20T04:25:49.242763Z"
    }
   },
   "outputs": [],
   "source": [
    "df.drop(columns='index', inplace=True)"
   ]
  },
  {
   "cell_type": "code",
   "execution_count": 13,
   "metadata": {
    "ExecuteTime": {
     "end_time": "2020-02-20T04:25:49.279761Z",
     "start_time": "2020-02-20T04:25:49.260761Z"
    }
   },
   "outputs": [
    {
     "data": {
      "text/plain": [
       "0    1682\n",
       "1      52\n",
       "Name: is_slum, dtype: int64"
      ]
     },
     "execution_count": 13,
     "metadata": {},
     "output_type": "execute_result"
    }
   ],
   "source": [
    "df['is_slum'].value_counts()"
   ]
  },
  {
   "cell_type": "code",
   "execution_count": 14,
   "metadata": {
    "ExecuteTime": {
     "end_time": "2020-02-20T04:25:49.300762Z",
     "start_time": "2020-02-20T04:25:49.281781Z"
    }
   },
   "outputs": [],
   "source": [
    "df = pd.concat([df, df[df['is_slum'] == 1].sample(1630, replace = True)]).reset_index().drop(columns='index')"
   ]
  },
  {
   "cell_type": "code",
   "execution_count": 15,
   "metadata": {
    "ExecuteTime": {
     "end_time": "2020-02-20T04:25:49.328789Z",
     "start_time": "2020-02-20T04:25:49.303759Z"
    }
   },
   "outputs": [
    {
     "data": {
      "text/html": [
       "<div>\n",
       "<style scoped>\n",
       "    .dataframe tbody tr th:only-of-type {\n",
       "        vertical-align: middle;\n",
       "    }\n",
       "\n",
       "    .dataframe tbody tr th {\n",
       "        vertical-align: top;\n",
       "    }\n",
       "\n",
       "    .dataframe thead th {\n",
       "        text-align: right;\n",
       "    }\n",
       "</style>\n",
       "<table border=\"1\" class=\"dataframe\">\n",
       "  <thead>\n",
       "    <tr style=\"text-align: right;\">\n",
       "      <th></th>\n",
       "      <th>price</th>\n",
       "      <th>title</th>\n",
       "      <th>furnishing</th>\n",
       "      <th>tenants preferred</th>\n",
       "      <th>bathroom</th>\n",
       "      <th>availability</th>\n",
       "      <th>longitude</th>\n",
       "      <th>latitude</th>\n",
       "      <th>floor</th>\n",
       "      <th>address</th>\n",
       "      <th>gmaps_info</th>\n",
       "      <th>coord</th>\n",
       "      <th>is_slum</th>\n",
       "    </tr>\n",
       "  </thead>\n",
       "  <tbody>\n",
       "    <tr>\n",
       "      <th>3359</th>\n",
       "      <td>₹ 21,000</td>\n",
       "      <td>3 BHK Apartment for rent in Moti Nagar 1250 sqft</td>\n",
       "      <td>Semi-Furnished</td>\n",
       "      <td>Bachelors/Family</td>\n",
       "      <td>2</td>\n",
       "      <td>Immediately</td>\n",
       "      <td>78.418348</td>\n",
       "      <td>17.449277</td>\n",
       "      <td>3 out of 5 Floors</td>\n",
       "      <td>Moti Nagar, Hyderabad</td>\n",
       "      <td>[{'address_components': [{'long_name': 'Moti N...</td>\n",
       "      <td>(17.4492773, 78.41834779999999)</td>\n",
       "      <td>1</td>\n",
       "    </tr>\n",
       "    <tr>\n",
       "      <th>3360</th>\n",
       "      <td>₹ 20,000</td>\n",
       "      <td>3 BHK Apartment for rent in Aditya Nagar, Hafe...</td>\n",
       "      <td>Furnished</td>\n",
       "      <td>Bachelors/Family</td>\n",
       "      <td>2</td>\n",
       "      <td>Immediately</td>\n",
       "      <td>78.365734</td>\n",
       "      <td>17.480639</td>\n",
       "      <td>2 out of 5 Floors</td>\n",
       "      <td>Aditya Nagar, Hafeezpet, Hyderabad</td>\n",
       "      <td>[{'address_components': [{'long_name': 'Aditya...</td>\n",
       "      <td>(17.4806393, 78.36573419999999)</td>\n",
       "      <td>1</td>\n",
       "    </tr>\n",
       "    <tr>\n",
       "      <th>3361</th>\n",
       "      <td>₹ 18,000</td>\n",
       "      <td>2 BHK Apartment for rent in Old Nallakunta, Ne...</td>\n",
       "      <td>Semi-Furnished</td>\n",
       "      <td>Bachelors/Family</td>\n",
       "      <td>2</td>\n",
       "      <td>Immediately</td>\n",
       "      <td>78.502896</td>\n",
       "      <td>17.402037</td>\n",
       "      <td>3 out of 4 Floors</td>\n",
       "      <td>Old Nallakunta, New Nallakunta, Hyderabad</td>\n",
       "      <td>[{'address_components': [{'long_name': 'Old Na...</td>\n",
       "      <td>(17.4020368, 78.5028963)</td>\n",
       "      <td>1</td>\n",
       "    </tr>\n",
       "    <tr>\n",
       "      <th>3362</th>\n",
       "      <td>₹ 22,000</td>\n",
       "      <td>3 BHK Apartment for rent in Panjagutta Colony ...</td>\n",
       "      <td>Furnished</td>\n",
       "      <td>Bachelors/Family</td>\n",
       "      <td>3</td>\n",
       "      <td>Immediately</td>\n",
       "      <td>78.451127</td>\n",
       "      <td>17.424520</td>\n",
       "      <td>Lower Basement out of 1 Floor</td>\n",
       "      <td>Panjagutta Colony, Hyderabad</td>\n",
       "      <td>[{'address_components': [{'long_name': 'Punjag...</td>\n",
       "      <td>(17.4245199, 78.4511272)</td>\n",
       "      <td>1</td>\n",
       "    </tr>\n",
       "    <tr>\n",
       "      <th>3363</th>\n",
       "      <td>₹ 16,000</td>\n",
       "      <td>3 BHK Service Apartment for rent in Chandanaga...</td>\n",
       "      <td>Unfurnished</td>\n",
       "      <td>Bachelors/Family</td>\n",
       "      <td>3</td>\n",
       "      <td>Immediately</td>\n",
       "      <td>78.327901</td>\n",
       "      <td>17.494913</td>\n",
       "      <td>Ground out of 4 Floors</td>\n",
       "      <td>Chandanagar, NH 9, Hyderabad</td>\n",
       "      <td>[{'address_components': [{'long_name': 'Nation...</td>\n",
       "      <td>(17.4949134, 78.3279013)</td>\n",
       "      <td>1</td>\n",
       "    </tr>\n",
       "  </tbody>\n",
       "</table>\n",
       "</div>"
      ],
      "text/plain": [
       "         price                                              title  \\\n",
       "3359  ₹ 21,000   3 BHK Apartment for rent in Moti Nagar 1250 sqft   \n",
       "3360  ₹ 20,000  3 BHK Apartment for rent in Aditya Nagar, Hafe...   \n",
       "3361  ₹ 18,000  2 BHK Apartment for rent in Old Nallakunta, Ne...   \n",
       "3362  ₹ 22,000  3 BHK Apartment for rent in Panjagutta Colony ...   \n",
       "3363  ₹ 16,000  3 BHK Service Apartment for rent in Chandanaga...   \n",
       "\n",
       "          furnishing tenants preferred bathroom availability  longitude  \\\n",
       "3359  Semi-Furnished  Bachelors/Family        2  Immediately  78.418348   \n",
       "3360       Furnished  Bachelors/Family        2  Immediately  78.365734   \n",
       "3361  Semi-Furnished  Bachelors/Family        2  Immediately  78.502896   \n",
       "3362       Furnished  Bachelors/Family        3  Immediately  78.451127   \n",
       "3363     Unfurnished  Bachelors/Family        3  Immediately  78.327901   \n",
       "\n",
       "       latitude                          floor  \\\n",
       "3359  17.449277              3 out of 5 Floors   \n",
       "3360  17.480639              2 out of 5 Floors   \n",
       "3361  17.402037              3 out of 4 Floors   \n",
       "3362  17.424520  Lower Basement out of 1 Floor   \n",
       "3363  17.494913         Ground out of 4 Floors   \n",
       "\n",
       "                                         address  \\\n",
       "3359                       Moti Nagar, Hyderabad   \n",
       "3360          Aditya Nagar, Hafeezpet, Hyderabad   \n",
       "3361   Old Nallakunta, New Nallakunta, Hyderabad   \n",
       "3362                Panjagutta Colony, Hyderabad   \n",
       "3363                Chandanagar, NH 9, Hyderabad   \n",
       "\n",
       "                                             gmaps_info  \\\n",
       "3359  [{'address_components': [{'long_name': 'Moti N...   \n",
       "3360  [{'address_components': [{'long_name': 'Aditya...   \n",
       "3361  [{'address_components': [{'long_name': 'Old Na...   \n",
       "3362  [{'address_components': [{'long_name': 'Punjag...   \n",
       "3363  [{'address_components': [{'long_name': 'Nation...   \n",
       "\n",
       "                                coord  is_slum  \n",
       "3359  (17.4492773, 78.41834779999999)        1  \n",
       "3360  (17.4806393, 78.36573419999999)        1  \n",
       "3361         (17.4020368, 78.5028963)        1  \n",
       "3362         (17.4245199, 78.4511272)        1  \n",
       "3363         (17.4949134, 78.3279013)        1  "
      ]
     },
     "execution_count": 15,
     "metadata": {},
     "output_type": "execute_result"
    }
   ],
   "source": [
    "df.tail()"
   ]
  },
  {
   "cell_type": "code",
   "execution_count": 16,
   "metadata": {
    "ExecuteTime": {
     "end_time": "2020-02-20T04:25:49.348759Z",
     "start_time": "2020-02-20T04:25:49.331762Z"
    }
   },
   "outputs": [
    {
     "data": {
      "text/plain": [
       "1    1682\n",
       "0    1682\n",
       "Name: is_slum, dtype: int64"
      ]
     },
     "execution_count": 16,
     "metadata": {},
     "output_type": "execute_result"
    }
   ],
   "source": [
    "df['is_slum'].value_counts()"
   ]
  },
  {
   "cell_type": "code",
   "execution_count": 17,
   "metadata": {
    "ExecuteTime": {
     "end_time": "2020-02-20T04:25:49.375795Z",
     "start_time": "2020-02-20T04:25:49.350761Z"
    }
   },
   "outputs": [],
   "source": [
    "df = pd.get_dummies(df, columns=['furnishing', 'tenants preferred', 'availability', 'floor', 'bathroom'], drop_first=True)"
   ]
  },
  {
   "cell_type": "code",
   "execution_count": 18,
   "metadata": {
    "ExecuteTime": {
     "end_time": "2020-02-20T04:25:49.401787Z",
     "start_time": "2020-02-20T04:25:49.377758Z"
    }
   },
   "outputs": [
    {
     "data": {
      "text/html": [
       "<div>\n",
       "<style scoped>\n",
       "    .dataframe tbody tr th:only-of-type {\n",
       "        vertical-align: middle;\n",
       "    }\n",
       "\n",
       "    .dataframe tbody tr th {\n",
       "        vertical-align: top;\n",
       "    }\n",
       "\n",
       "    .dataframe thead th {\n",
       "        text-align: right;\n",
       "    }\n",
       "</style>\n",
       "<table border=\"1\" class=\"dataframe\">\n",
       "  <thead>\n",
       "    <tr style=\"text-align: right;\">\n",
       "      <th></th>\n",
       "      <th>price</th>\n",
       "      <th>title</th>\n",
       "      <th>longitude</th>\n",
       "      <th>latitude</th>\n",
       "      <th>address</th>\n",
       "      <th>gmaps_info</th>\n",
       "      <th>coord</th>\n",
       "      <th>is_slum</th>\n",
       "      <th>furnishing_Semi-Furnished</th>\n",
       "      <th>furnishing_Unfurnished</th>\n",
       "      <th>...</th>\n",
       "      <th>floor_Upper Basement out of 1 Floor</th>\n",
       "      <th>floor_Upper Basement out of 2 Floors</th>\n",
       "      <th>floor_Upper Basement out of 5 Floors</th>\n",
       "      <th>bathroom_2</th>\n",
       "      <th>bathroom_3</th>\n",
       "      <th>bathroom_4</th>\n",
       "      <th>bathroom_5</th>\n",
       "      <th>bathroom_6</th>\n",
       "      <th>bathroom_7</th>\n",
       "      <th>bathroom_&gt; 10</th>\n",
       "    </tr>\n",
       "  </thead>\n",
       "  <tbody>\n",
       "    <tr>\n",
       "      <th>0</th>\n",
       "      <td>₹ 5,800</td>\n",
       "      <td>1 BHK Apartment for rent in Vinayak Nagar II-H...</td>\n",
       "      <td>78.598729</td>\n",
       "      <td>17.331128</td>\n",
       "      <td>Vinayak Nagar II-Hayathnagar, Hyderabad</td>\n",
       "      <td>[{'address_components': [{'long_name': 'Vinaya...</td>\n",
       "      <td>(17.3311276, 78.5987291)</td>\n",
       "      <td>0</td>\n",
       "      <td>0</td>\n",
       "      <td>1</td>\n",
       "      <td>...</td>\n",
       "      <td>0</td>\n",
       "      <td>0</td>\n",
       "      <td>0</td>\n",
       "      <td>0</td>\n",
       "      <td>0</td>\n",
       "      <td>0</td>\n",
       "      <td>0</td>\n",
       "      <td>0</td>\n",
       "      <td>0</td>\n",
       "      <td>0</td>\n",
       "    </tr>\n",
       "    <tr>\n",
       "      <th>1</th>\n",
       "      <td>₹ 14,000</td>\n",
       "      <td>2 BHK Apartment for rent in Kukatpally, NH 9 1...</td>\n",
       "      <td>78.399146</td>\n",
       "      <td>17.494868</td>\n",
       "      <td>Kukatpally, NH 9, Hyderabad</td>\n",
       "      <td>[{'address_components': [{'long_name': 'Nation...</td>\n",
       "      <td>(17.4948682, 78.3991456)</td>\n",
       "      <td>0</td>\n",
       "      <td>1</td>\n",
       "      <td>0</td>\n",
       "      <td>...</td>\n",
       "      <td>0</td>\n",
       "      <td>0</td>\n",
       "      <td>0</td>\n",
       "      <td>1</td>\n",
       "      <td>0</td>\n",
       "      <td>0</td>\n",
       "      <td>0</td>\n",
       "      <td>0</td>\n",
       "      <td>0</td>\n",
       "      <td>0</td>\n",
       "    </tr>\n",
       "    <tr>\n",
       "      <th>2</th>\n",
       "      <td>₹ 20,000</td>\n",
       "      <td>3 BHK Apartment for rent in Dellapur 1560 sqft</td>\n",
       "      <td>78.286481</td>\n",
       "      <td>17.463172</td>\n",
       "      <td>Dellapur, Hyderabad</td>\n",
       "      <td>[{'address_components': [{'long_name': 'Tellap...</td>\n",
       "      <td>(17.463172, 78.2864815)</td>\n",
       "      <td>0</td>\n",
       "      <td>1</td>\n",
       "      <td>0</td>\n",
       "      <td>...</td>\n",
       "      <td>0</td>\n",
       "      <td>0</td>\n",
       "      <td>0</td>\n",
       "      <td>1</td>\n",
       "      <td>0</td>\n",
       "      <td>0</td>\n",
       "      <td>0</td>\n",
       "      <td>0</td>\n",
       "      <td>0</td>\n",
       "      <td>0</td>\n",
       "    </tr>\n",
       "  </tbody>\n",
       "</table>\n",
       "<p>3 rows × 153 columns</p>\n",
       "</div>"
      ],
      "text/plain": [
       "      price                                              title  longitude  \\\n",
       "0   ₹ 5,800  1 BHK Apartment for rent in Vinayak Nagar II-H...  78.598729   \n",
       "1  ₹ 14,000  2 BHK Apartment for rent in Kukatpally, NH 9 1...  78.399146   \n",
       "2  ₹ 20,000     3 BHK Apartment for rent in Dellapur 1560 sqft  78.286481   \n",
       "\n",
       "    latitude                                   address  \\\n",
       "0  17.331128   Vinayak Nagar II-Hayathnagar, Hyderabad   \n",
       "1  17.494868               Kukatpally, NH 9, Hyderabad   \n",
       "2  17.463172                       Dellapur, Hyderabad   \n",
       "\n",
       "                                          gmaps_info  \\\n",
       "0  [{'address_components': [{'long_name': 'Vinaya...   \n",
       "1  [{'address_components': [{'long_name': 'Nation...   \n",
       "2  [{'address_components': [{'long_name': 'Tellap...   \n",
       "\n",
       "                      coord  is_slum  furnishing_Semi-Furnished  \\\n",
       "0  (17.3311276, 78.5987291)        0                          0   \n",
       "1  (17.4948682, 78.3991456)        0                          1   \n",
       "2   (17.463172, 78.2864815)        0                          1   \n",
       "\n",
       "   furnishing_Unfurnished  ...  floor_Upper Basement out of 1 Floor  \\\n",
       "0                       1  ...                                    0   \n",
       "1                       0  ...                                    0   \n",
       "2                       0  ...                                    0   \n",
       "\n",
       "   floor_Upper Basement out of 2 Floors  floor_Upper Basement out of 5 Floors  \\\n",
       "0                                     0                                     0   \n",
       "1                                     0                                     0   \n",
       "2                                     0                                     0   \n",
       "\n",
       "   bathroom_2  bathroom_3  bathroom_4  bathroom_5  bathroom_6  bathroom_7  \\\n",
       "0           0           0           0           0           0           0   \n",
       "1           1           0           0           0           0           0   \n",
       "2           1           0           0           0           0           0   \n",
       "\n",
       "   bathroom_> 10  \n",
       "0              0  \n",
       "1              0  \n",
       "2              0  \n",
       "\n",
       "[3 rows x 153 columns]"
      ]
     },
     "execution_count": 18,
     "metadata": {},
     "output_type": "execute_result"
    }
   ],
   "source": [
    "df.head(3)"
   ]
  },
  {
   "cell_type": "code",
   "execution_count": 19,
   "metadata": {
    "ExecuteTime": {
     "end_time": "2020-02-20T04:25:49.419804Z",
     "start_time": "2020-02-20T04:25:49.404760Z"
    }
   },
   "outputs": [],
   "source": [
    "X = df.drop(columns=['price', 'title', 'latitude', 'longitude', 'is_slum', 'address', 'title', 'gmaps_info', 'coord'])\n",
    "y = df['is_slum']"
   ]
  },
  {
   "cell_type": "code",
   "execution_count": 20,
   "metadata": {
    "ExecuteTime": {
     "end_time": "2020-02-20T04:25:49.437797Z",
     "start_time": "2020-02-20T04:25:49.421770Z"
    }
   },
   "outputs": [
    {
     "data": {
      "text/plain": [
       "['furnishing_Semi-Furnished',\n",
       " 'furnishing_Unfurnished',\n",
       " 'tenants preferred_Bachelors/Family',\n",
       " 'tenants preferred_Family',\n",
       " \"availability_From Feb '20\",\n",
       " \"availability_From Mar '20\",\n",
       " 'availability_Immediately',\n",
       " 'floor_1 out of 1 Floor',\n",
       " 'floor_1 out of 10 Floors',\n",
       " 'floor_1 out of 12 Floors',\n",
       " 'floor_1 out of 13 Floors',\n",
       " 'floor_1 out of 16 Floors',\n",
       " 'floor_1 out of 2 Floors',\n",
       " 'floor_1 out of 3 Floors',\n",
       " 'floor_1 out of 30 Floors',\n",
       " 'floor_1 out of 4 Floors',\n",
       " 'floor_1 out of 5 Floors',\n",
       " 'floor_1 out of 6 Floors',\n",
       " 'floor_1 out of 7 Floors',\n",
       " 'floor_1 out of 8 Floors',\n",
       " 'floor_1 out of 9 Floors',\n",
       " 'floor_10 out of 10 Floors',\n",
       " 'floor_10 out of 27 Floors',\n",
       " 'floor_10 out of 29 Floors',\n",
       " 'floor_11 out of 30 Floors',\n",
       " 'floor_11 out of 34 Floors',\n",
       " 'floor_12 out of 12 Floors',\n",
       " 'floor_12 out of 28 Floors',\n",
       " 'floor_14 out of 14 Floors',\n",
       " 'floor_14 out of 15 Floors',\n",
       " 'floor_14 out of 30 Floors',\n",
       " 'floor_15 out of 18 Floors',\n",
       " 'floor_15 out of 30 Floors',\n",
       " 'floor_16 out of 20 Floors',\n",
       " 'floor_16 out of 33 Floors',\n",
       " 'floor_17 out of 19 Floors',\n",
       " 'floor_17 out of 20 Floors',\n",
       " 'floor_17 out of 22 Floors',\n",
       " 'floor_17 out of 23 Floors',\n",
       " 'floor_17 out of 30 Floors',\n",
       " 'floor_18 out of 24 Floors',\n",
       " 'floor_19 out of 21 Floors',\n",
       " 'floor_2 out of 12 Floors',\n",
       " 'floor_2 out of 13 Floors',\n",
       " 'floor_2 out of 14 Floors',\n",
       " 'floor_2 out of 15 Floors',\n",
       " 'floor_2 out of 16 Floors',\n",
       " 'floor_2 out of 2 Floors',\n",
       " 'floor_2 out of 3 Floors',\n",
       " 'floor_2 out of 31 Floors',\n",
       " 'floor_2 out of 4 Floors',\n",
       " 'floor_2 out of 5 Floors',\n",
       " 'floor_2 out of 6 Floors',\n",
       " 'floor_2 out of 7 Floors',\n",
       " 'floor_2 out of 8 Floors',\n",
       " 'floor_2 out of 9 Floors',\n",
       " 'floor_20 out of 20 Floors',\n",
       " 'floor_20 out of 23 Floors',\n",
       " 'floor_21 out of 30 Floors',\n",
       " 'floor_22 out of 25 Floors',\n",
       " 'floor_22 out of 30 Floors',\n",
       " 'floor_23 out of 30 Floors',\n",
       " 'floor_25 out of 36 Floors',\n",
       " 'floor_3',\n",
       " 'floor_3 out of 10 Floors',\n",
       " 'floor_3 out of 15 Floors',\n",
       " 'floor_3 out of 16 Floors',\n",
       " 'floor_3 out of 18 Floors',\n",
       " 'floor_3 out of 20 Floors',\n",
       " 'floor_3 out of 22 Floors',\n",
       " 'floor_3 out of 25 Floors',\n",
       " 'floor_3 out of 3 Floors',\n",
       " 'floor_3 out of 4 Floors',\n",
       " 'floor_3 out of 5 Floors',\n",
       " 'floor_3 out of 6 Floors',\n",
       " 'floor_3 out of 7 Floors',\n",
       " 'floor_3 out of 8 Floors',\n",
       " 'floor_3 out of 9 Floors',\n",
       " 'floor_4',\n",
       " 'floor_4 out of 12 Floors',\n",
       " 'floor_4 out of 14 Floors',\n",
       " 'floor_4 out of 20 Floors',\n",
       " 'floor_4 out of 21 Floors',\n",
       " 'floor_4 out of 4 Floors',\n",
       " 'floor_4 out of 5 Floors',\n",
       " 'floor_4 out of 6 Floors',\n",
       " 'floor_4 out of 7 Floors',\n",
       " 'floor_4 out of 8 Floors',\n",
       " 'floor_4 out of 9 Floors',\n",
       " 'floor_5 out of 10 Floors',\n",
       " 'floor_5 out of 11 Floors',\n",
       " 'floor_5 out of 12 Floors',\n",
       " 'floor_5 out of 13 Floors',\n",
       " 'floor_5 out of 14 Floors',\n",
       " 'floor_5 out of 20 Floors',\n",
       " 'floor_5 out of 5 Floors',\n",
       " 'floor_5 out of 6 Floors',\n",
       " 'floor_5 out of 7 Floors',\n",
       " 'floor_5 out of 8 Floors',\n",
       " 'floor_5 out of 9 Floors',\n",
       " 'floor_6 out of 10 Floors',\n",
       " 'floor_6 out of 12 Floors',\n",
       " 'floor_6 out of 16 Floors',\n",
       " 'floor_6 out of 20 Floors',\n",
       " 'floor_6 out of 22 Floors',\n",
       " 'floor_6 out of 6 Floors',\n",
       " 'floor_6 out of 7 Floors',\n",
       " 'floor_6 out of 8 Floors',\n",
       " 'floor_6 out of 9 Floors',\n",
       " 'floor_7 out of 20 Floors',\n",
       " 'floor_7 out of 30 Floors',\n",
       " 'floor_7 out of 7 Floors',\n",
       " 'floor_7 out of 8 Floors',\n",
       " 'floor_8 out of 10 Floors',\n",
       " 'floor_8 out of 11 Floors',\n",
       " 'floor_8 out of 13 Floors',\n",
       " 'floor_8 out of 14 Floors',\n",
       " 'floor_8 out of 8 Floors',\n",
       " 'floor_8 out of 9 Floors',\n",
       " 'floor_9 out of 10 Floors',\n",
       " 'floor_9 out of 11 Floors',\n",
       " 'floor_9 out of 12 Floors',\n",
       " 'floor_9 out of 13 Floors',\n",
       " 'floor_9 out of 15 Floors',\n",
       " 'floor_9 out of 9 Floors',\n",
       " 'floor_Ground out of 1 Floor',\n",
       " 'floor_Ground out of 12 Floors',\n",
       " 'floor_Ground out of 2 Floors',\n",
       " 'floor_Ground out of 3 Floors',\n",
       " 'floor_Ground out of 4 Floors',\n",
       " 'floor_Ground out of 5 Floors',\n",
       " 'floor_Ground out of 6 Floors',\n",
       " 'floor_Lower Basement out of 1 Floor',\n",
       " 'floor_Lower Basement out of 2 Floors',\n",
       " 'floor_Lower Basement out of 3 Floors',\n",
       " 'floor_Upper Basement out of 1 Floor',\n",
       " 'floor_Upper Basement out of 2 Floors',\n",
       " 'floor_Upper Basement out of 5 Floors',\n",
       " 'bathroom_2',\n",
       " 'bathroom_3',\n",
       " 'bathroom_4',\n",
       " 'bathroom_5',\n",
       " 'bathroom_6',\n",
       " 'bathroom_7',\n",
       " 'bathroom_> 10']"
      ]
     },
     "execution_count": 20,
     "metadata": {},
     "output_type": "execute_result"
    }
   ],
   "source": [
    "list(X.columns)"
   ]
  },
  {
   "cell_type": "code",
   "execution_count": 21,
   "metadata": {
    "ExecuteTime": {
     "end_time": "2020-02-20T04:25:49.465805Z",
     "start_time": "2020-02-20T04:25:49.440762Z"
    }
   },
   "outputs": [],
   "source": [
    "X_train, X_test, y_train, y_test = train_test_split(X, y)"
   ]
  },
  {
   "cell_type": "code",
   "execution_count": 22,
   "metadata": {
    "ExecuteTime": {
     "end_time": "2020-02-20T04:25:49.507760Z",
     "start_time": "2020-02-20T04:25:49.467758Z"
    }
   },
   "outputs": [
    {
     "data": {
      "text/plain": [
       "LinearRegression(copy_X=True, fit_intercept=True, n_jobs=None, normalize=False)"
      ]
     },
     "execution_count": 22,
     "metadata": {},
     "output_type": "execute_result"
    }
   ],
   "source": [
    "lr = LinearRegression()\n",
    "lr.fit(X_train, y_train)"
   ]
  },
  {
   "cell_type": "code",
   "execution_count": 23,
   "metadata": {
    "ExecuteTime": {
     "end_time": "2020-02-20T04:25:49.526770Z",
     "start_time": "2020-02-20T04:25:49.511758Z"
    }
   },
   "outputs": [
    {
     "data": {
      "text/plain": [
       "(0.24355159471957744, -2.2611813942874438e+21)"
      ]
     },
     "execution_count": 23,
     "metadata": {},
     "output_type": "execute_result"
    }
   ],
   "source": [
    "lr.score(X_train, y_train), lr.score(X_test, y_test)"
   ]
  },
  {
   "cell_type": "code",
   "execution_count": 24,
   "metadata": {
    "ExecuteTime": {
     "end_time": "2020-02-20T04:25:49.987791Z",
     "start_time": "2020-02-20T04:25:49.528758Z"
    }
   },
   "outputs": [
    {
     "data": {
      "text/plain": [
       "RandomForestClassifier(bootstrap=True, ccp_alpha=0.0, class_weight=None,\n",
       "                       criterion='gini', max_depth=None, max_features='auto',\n",
       "                       max_leaf_nodes=None, max_samples=None,\n",
       "                       min_impurity_decrease=0.0, min_impurity_split=None,\n",
       "                       min_samples_leaf=1, min_samples_split=2,\n",
       "                       min_weight_fraction_leaf=0.0, n_estimators=100,\n",
       "                       n_jobs=None, oob_score=False, random_state=None,\n",
       "                       verbose=0, warm_start=False)"
      ]
     },
     "execution_count": 24,
     "metadata": {},
     "output_type": "execute_result"
    }
   ],
   "source": [
    "rf = RandomForestClassifier()\n",
    "rf.fit(X_train, y_train)"
   ]
  },
  {
   "cell_type": "code",
   "execution_count": 25,
   "metadata": {
    "ExecuteTime": {
     "end_time": "2020-02-20T04:25:50.077765Z",
     "start_time": "2020-02-20T04:25:49.989765Z"
    }
   },
   "outputs": [
    {
     "data": {
      "text/plain": [
       "(0.8830757035275466, 0.8799048751486326)"
      ]
     },
     "execution_count": 25,
     "metadata": {},
     "output_type": "execute_result"
    }
   ],
   "source": [
    "rf.score(X_train, y_train), rf.score(X_test, y_test)"
   ]
  },
  {
   "cell_type": "code",
   "execution_count": 26,
   "metadata": {
    "ExecuteTime": {
     "end_time": "2020-02-20T04:25:50.149782Z",
     "start_time": "2020-02-20T04:25:50.079787Z"
    }
   },
   "outputs": [
    {
     "data": {
      "text/plain": [
       "1533"
      ]
     },
     "execution_count": 26,
     "metadata": {},
     "output_type": "execute_result"
    }
   ],
   "source": [
    "rf.predict(X_train).sum()"
   ]
  },
  {
   "cell_type": "code",
   "execution_count": null,
   "metadata": {},
   "outputs": [],
   "source": []
  }
 ],
 "metadata": {
  "kernelspec": {
   "display_name": "Python 3",
   "language": "python",
   "name": "python3"
  },
  "language_info": {
   "codemirror_mode": {
    "name": "ipython",
    "version": 3
   },
   "file_extension": ".py",
   "mimetype": "text/x-python",
   "name": "python",
   "nbconvert_exporter": "python",
   "pygments_lexer": "ipython3",
   "version": "3.7.6"
  }
 },
 "nbformat": 4,
 "nbformat_minor": 4
}
