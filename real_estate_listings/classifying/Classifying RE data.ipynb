{
 "cells": [
  {
   "cell_type": "code",
   "execution_count": 1,
   "metadata": {},
   "outputs": [],
   "source": [
    "import numpy as np\n",
    "import pandas as pd\n",
    "from is_slum import get_slum_val, get_distance_from_slum # zach's functions\n",
    "import matplotlib.pyplot as plt"
   ]
  },
  {
   "cell_type": "code",
   "execution_count": 2,
   "metadata": {},
   "outputs": [],
   "source": [
    "%%capture\n",
    "from tqdm.notebook import tqdm # progress bar\n",
    "tqdm().pandas()"
   ]
  },
  {
   "cell_type": "code",
   "execution_count": 3,
   "metadata": {},
   "outputs": [],
   "source": [
    "rio = pd.read_csv('../data/rio/cleaned_2.csv')\n",
    "hyderabad = pd.read_csv('../data/hyderabad/cleaned.csv')\n",
    "chennai = pd.read_csv('../data/chennai/cleaned.csv')\n",
    "delhi = pd.read_csv('../data/new_delhi/cleaned.csv')\n",
    "mumbai1 = pd.read_csv('../data/mumbai/cleaned_housing.com.csv')\n",
    "mumbai2 = pd.read_csv('../data/mumbai/cleaned_99acres.com.csv')\n",
    "mumbai = pd.concat([mumbai1[['lat', 'lng', 'price', 'coord']],\n",
    "                    mumbai2[['lat', 'lng', 'price_per_month', 'coord']\n",
    "                    ].rename(columns={'price_per_month':'price'})]).rename( # (my bad)\n",
    "                             columns={'lat':'latitude','lng':'longitude'})"
   ]
  },
  {
   "cell_type": "code",
   "execution_count": 4,
   "metadata": {},
   "outputs": [],
   "source": [
    "def Prepare(df):\n",
    "    df['coord'] = list(zip(df['latitude'], df['longitude'])) \n",
    "    df.drop(columns=['latitude', 'longitude'], inplace=True)\n",
    "    print(df.duplicated().sum(), 'duplicates dropped.')\n",
    "    df.drop_duplicates(inplace=True)\n",
    "    return df"
   ]
  },
  {
   "cell_type": "code",
   "execution_count": 5,
   "metadata": {},
   "outputs": [
    {
     "name": "stdout",
     "output_type": "stream",
     "text": [
      "137 duplicates dropped.\n",
      "7488 duplicates dropped.\n",
      "33 duplicates dropped.\n",
      "194 duplicates dropped.\n",
      "59 duplicates dropped.\n"
     ]
    }
   ],
   "source": [
    "rio = Prepare(rio)\n",
    "mumbai = Prepare(mumbai)\n",
    "hyderabad = Prepare(hyderabad)\n",
    "chennai = Prepare(chennai)\n",
    "delhi = Prepare(delhi)"
   ]
  },
  {
   "cell_type": "markdown",
   "metadata": {},
   "source": [
    "### Classifying"
   ]
  },
  {
   "cell_type": "code",
   "execution_count": 14,
   "metadata": {},
   "outputs": [],
   "source": [
    "def get_classes(df, city, distance=False):\n",
    "    binary_map = dict()\n",
    "    distance_map = dict()\n",
    "    uniques = list(set(df['coord']))\n",
    "    for coord in tqdm(uniques):\n",
    "        \n",
    "        try: # binary calculator\n",
    "            binary_map[coord] = get_slum_val(city, (coord[0], coord[1]))\n",
    "        except: binary_map[coord] = np.nan\n",
    "        \n",
    "        if distance==True:\n",
    "            try: # distance calculator\n",
    "                distance_map[coord] = get_distance_from_slum(city, (coord[0], coord[1]), 50)\n",
    "            except: distance_map[coord] = np.nan\n",
    "    \n",
    "    print(len(uniques), 'unique locations classified. mapping back to dataset...')\n",
    "    df['class'] = df.coord.progress_apply(lambda x: binary_map[x])\n",
    "    \n",
    "    if distance==True:\n",
    "        df['class_distance'] = df.coord.progress_apply(lambda x: distance_map[x])\n",
    "    \n",
    "    print('COMPLETE. saving to CSV...')\n",
    "    \n",
    "    df.to_csv(f'classified_{city}.csv', index=False)\n",
    "    \n",
    "    print('saved. binary value counts:', df['class'].value_counts(normalize=True).values)"
   ]
  },
  {
   "cell_type": "code",
   "execution_count": 15,
   "metadata": {},
   "outputs": [
    {
     "data": {
      "application/vnd.jupyter.widget-view+json": {
       "model_id": "1cc5a3a042974c63883ed64a7c137bb5",
       "version_major": 2,
       "version_minor": 0
      },
      "text/plain": [
       "HBox(children=(FloatProgress(value=0.0, max=1617.0), HTML(value='')))"
      ]
     },
     "metadata": {},
     "output_type": "display_data"
    },
    {
     "name": "stdout",
     "output_type": "stream",
     "text": [
      "\n",
      "1617 unique locations classified. mapping back to dataset...\n"
     ]
    },
    {
     "data": {
      "application/vnd.jupyter.widget-view+json": {
       "model_id": "b1fd0389d0ae45d1b9d4d0ad77199fce",
       "version_major": 2,
       "version_minor": 0
      },
      "text/plain": [
       "HBox(children=(FloatProgress(value=0.0, max=7541.0), HTML(value='')))"
      ]
     },
     "metadata": {},
     "output_type": "display_data"
    },
    {
     "name": "stdout",
     "output_type": "stream",
     "text": [
      "\n"
     ]
    },
    {
     "data": {
      "application/vnd.jupyter.widget-view+json": {
       "model_id": "50786bcde1b445dabf53412f212ec710",
       "version_major": 2,
       "version_minor": 0
      },
      "text/plain": [
       "HBox(children=(FloatProgress(value=0.0, max=7541.0), HTML(value='')))"
      ]
     },
     "metadata": {},
     "output_type": "display_data"
    },
    {
     "name": "stdout",
     "output_type": "stream",
     "text": [
      "\n",
      "COMPLETE. saving to CSV...\n",
      "saved. binary value counts: [0.95574163 0.04425837]\n"
     ]
    }
   ],
   "source": [
    "get_classes(rio, 'rio', distance=True)"
   ]
  },
  {
   "cell_type": "code",
   "execution_count": 71,
   "metadata": {},
   "outputs": [
    {
     "data": {
      "application/vnd.jupyter.widget-view+json": {
       "model_id": "c0484e7bcccc42babd7a9f8eacc27c35",
       "version_major": 2,
       "version_minor": 0
      },
      "text/plain": [
       "HBox(children=(FloatProgress(value=0.0, max=968.0), HTML(value='')))"
      ]
     },
     "metadata": {},
     "output_type": "display_data"
    },
    {
     "name": "stdout",
     "output_type": "stream",
     "text": [
      "\n",
      "968 unique locations classified. mapping back to dataset...\n"
     ]
    },
    {
     "data": {
      "application/vnd.jupyter.widget-view+json": {
       "model_id": "7218d3468ef843e8bb47763bcac2921d",
       "version_major": 2,
       "version_minor": 0
      },
      "text/plain": [
       "HBox(children=(FloatProgress(value=0.0, max=2212.0), HTML(value='')))"
      ]
     },
     "metadata": {},
     "output_type": "display_data"
    },
    {
     "name": "stdout",
     "output_type": "stream",
     "text": [
      "\n",
      "COMPLETE. saving to CSV...\n",
      "saved. binary value counts: [0.9773858 0.0226142]\n"
     ]
    },
    {
     "data": {
      "text/html": [
       "<div>\n",
       "<style scoped>\n",
       "    .dataframe tbody tr th:only-of-type {\n",
       "        vertical-align: middle;\n",
       "    }\n",
       "\n",
       "    .dataframe tbody tr th {\n",
       "        vertical-align: top;\n",
       "    }\n",
       "\n",
       "    .dataframe thead th {\n",
       "        text-align: right;\n",
       "    }\n",
       "</style>\n",
       "<table border=\"1\" class=\"dataframe\">\n",
       "  <thead>\n",
       "    <tr style=\"text-align: right;\">\n",
       "      <th></th>\n",
       "      <th>price</th>\n",
       "      <th>bathroom</th>\n",
       "      <th>coord</th>\n",
       "      <th>bhk</th>\n",
       "      <th>sqft</th>\n",
       "      <th>class</th>\n",
       "    </tr>\n",
       "  </thead>\n",
       "  <tbody>\n",
       "    <tr>\n",
       "      <th>0</th>\n",
       "      <td>19000.0</td>\n",
       "      <td>NaN</td>\n",
       "      <td>(80.207, 12.760201400000001)</td>\n",
       "      <td>3.0</td>\n",
       "      <td>1150.0</td>\n",
       "      <td>0.0</td>\n",
       "    </tr>\n",
       "    <tr>\n",
       "      <th>1</th>\n",
       "      <td>8500.0</td>\n",
       "      <td>NaN</td>\n",
       "      <td>(80.20053100585938, 13.044207572937012)</td>\n",
       "      <td>1.0</td>\n",
       "      <td>NaN</td>\n",
       "      <td>0.0</td>\n",
       "    </tr>\n",
       "    <tr>\n",
       "      <th>2</th>\n",
       "      <td>35000.0</td>\n",
       "      <td>NaN</td>\n",
       "      <td>(17.385044, 78.486671)</td>\n",
       "      <td>3.0</td>\n",
       "      <td>1600.0</td>\n",
       "      <td>0.0</td>\n",
       "    </tr>\n",
       "    <tr>\n",
       "      <th>3</th>\n",
       "      <td>15000.0</td>\n",
       "      <td>NaN</td>\n",
       "      <td>(80.21918487548828, 12.97907829284668)</td>\n",
       "      <td>2.0</td>\n",
       "      <td>950.0</td>\n",
       "      <td>0.0</td>\n",
       "    </tr>\n",
       "    <tr>\n",
       "      <th>4</th>\n",
       "      <td>15000.0</td>\n",
       "      <td>NaN</td>\n",
       "      <td>(12.8176758, 80.16256489999998)</td>\n",
       "      <td>2.0</td>\n",
       "      <td>970.0</td>\n",
       "      <td>0.0</td>\n",
       "    </tr>\n",
       "    <tr>\n",
       "      <th>...</th>\n",
       "      <td>...</td>\n",
       "      <td>...</td>\n",
       "      <td>...</td>\n",
       "      <td>...</td>\n",
       "      <td>...</td>\n",
       "      <td>...</td>\n",
       "    </tr>\n",
       "    <tr>\n",
       "      <th>2399</th>\n",
       "      <td>13000.0</td>\n",
       "      <td>NaN</td>\n",
       "      <td>(80.1443557739258, 12.916125297546401)</td>\n",
       "      <td>2.0</td>\n",
       "      <td>1100.0</td>\n",
       "      <td>0.0</td>\n",
       "    </tr>\n",
       "    <tr>\n",
       "      <th>2400</th>\n",
       "      <td>9000.0</td>\n",
       "      <td>NaN</td>\n",
       "      <td>(80.200927734375, 13.044439315795898)</td>\n",
       "      <td>2.0</td>\n",
       "      <td>900.0</td>\n",
       "      <td>0.0</td>\n",
       "    </tr>\n",
       "    <tr>\n",
       "      <th>2403</th>\n",
       "      <td>NaN</td>\n",
       "      <td>NaN</td>\n",
       "      <td>(17.385044, 78.486671)</td>\n",
       "      <td>4.0</td>\n",
       "      <td>3700.0</td>\n",
       "      <td>0.0</td>\n",
       "    </tr>\n",
       "    <tr>\n",
       "      <th>2404</th>\n",
       "      <td>NaN</td>\n",
       "      <td>NaN</td>\n",
       "      <td>(80.2532958984375, 13.04327392578125)</td>\n",
       "      <td>3.0</td>\n",
       "      <td>2650.0</td>\n",
       "      <td>0.0</td>\n",
       "    </tr>\n",
       "    <tr>\n",
       "      <th>2405</th>\n",
       "      <td>35000.0</td>\n",
       "      <td>NaN</td>\n",
       "      <td>(80.26639556884766, 13.05345058441162)</td>\n",
       "      <td>2.0</td>\n",
       "      <td>1050.0</td>\n",
       "      <td>0.0</td>\n",
       "    </tr>\n",
       "  </tbody>\n",
       "</table>\n",
       "<p>2212 rows × 6 columns</p>\n",
       "</div>"
      ],
      "text/plain": [
       "        price  bathroom                                    coord  bhk    sqft  \\\n",
       "0     19000.0       NaN             (80.207, 12.760201400000001)  3.0  1150.0   \n",
       "1      8500.0       NaN  (80.20053100585938, 13.044207572937012)  1.0     NaN   \n",
       "2     35000.0       NaN                   (17.385044, 78.486671)  3.0  1600.0   \n",
       "3     15000.0       NaN   (80.21918487548828, 12.97907829284668)  2.0   950.0   \n",
       "4     15000.0       NaN          (12.8176758, 80.16256489999998)  2.0   970.0   \n",
       "...       ...       ...                                      ...  ...     ...   \n",
       "2399  13000.0       NaN   (80.1443557739258, 12.916125297546401)  2.0  1100.0   \n",
       "2400   9000.0       NaN    (80.200927734375, 13.044439315795898)  2.0   900.0   \n",
       "2403      NaN       NaN                   (17.385044, 78.486671)  4.0  3700.0   \n",
       "2404      NaN       NaN    (80.2532958984375, 13.04327392578125)  3.0  2650.0   \n",
       "2405  35000.0       NaN   (80.26639556884766, 13.05345058441162)  2.0  1050.0   \n",
       "\n",
       "      class  \n",
       "0       0.0  \n",
       "1       0.0  \n",
       "2       0.0  \n",
       "3       0.0  \n",
       "4       0.0  \n",
       "...     ...  \n",
       "2399    0.0  \n",
       "2400    0.0  \n",
       "2403    0.0  \n",
       "2404    0.0  \n",
       "2405    0.0  \n",
       "\n",
       "[2212 rows x 6 columns]"
      ]
     },
     "execution_count": 71,
     "metadata": {},
     "output_type": "execute_result"
    }
   ],
   "source": [
    "get_classes(chennai, 'chennai')"
   ]
  },
  {
   "cell_type": "code",
   "execution_count": null,
   "metadata": {},
   "outputs": [
    {
     "data": {
      "application/vnd.jupyter.widget-view+json": {
       "model_id": "4e27d101d63d49b0af1a51bf5f533087",
       "version_major": 2,
       "version_minor": 0
      },
      "text/plain": [
       "HBox(children=(FloatProgress(value=0.0, max=1030.0), HTML(value='')))"
      ]
     },
     "metadata": {},
     "output_type": "display_data"
    }
   ],
   "source": [
    "get_classes(delhi, 'delhi')"
   ]
  },
  {
   "cell_type": "code",
   "execution_count": null,
   "metadata": {},
   "outputs": [],
   "source": [
    "get_classes(mumbai, 'mumbai')"
   ]
  },
  {
   "cell_type": "code",
   "execution_count": null,
   "metadata": {},
   "outputs": [],
   "source": [
    "get_classes(hyderabad, 'hyderabad')"
   ]
  },
  {
   "cell_type": "code",
   "execution_count": null,
   "metadata": {},
   "outputs": [],
   "source": []
  }
 ],
 "metadata": {
  "kernelspec": {
   "display_name": "Python 3",
   "language": "python",
   "name": "python3"
  },
  "language_info": {
   "codemirror_mode": {
    "name": "ipython",
    "version": 3
   },
   "file_extension": ".py",
   "mimetype": "text/x-python",
   "name": "python",
   "nbconvert_exporter": "python",
   "pygments_lexer": "ipython3",
   "version": "3.7.5"
  }
 },
 "nbformat": 4,
 "nbformat_minor": 2
}
