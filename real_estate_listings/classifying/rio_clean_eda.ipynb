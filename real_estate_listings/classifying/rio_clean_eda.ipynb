{
 "cells": [
  {
   "cell_type": "code",
   "execution_count": 1,
   "metadata": {
    "ExecuteTime": {
     "end_time": "2020-02-19T16:12:35.051770Z",
     "start_time": "2020-02-19T16:12:33.171636Z"
    }
   },
   "outputs": [],
   "source": [
    "import pandas as pd\n",
    "import numpy as np\n",
    "from is_slum import get_slum_val\n",
    "from sklearn.linear_model import LinearRegression\n",
    "from sklearn.model_selection import train_test_split\n",
    "from sklearn.ensemble import RandomForestClassifier"
   ]
  },
  {
   "cell_type": "code",
   "execution_count": 2,
   "metadata": {
    "ExecuteTime": {
     "end_time": "2020-02-19T16:12:35.070108Z",
     "start_time": "2020-02-19T16:12:35.051770Z"
    }
   },
   "outputs": [
    {
     "data": {
      "text/plain": [
       "0"
      ]
     },
     "execution_count": 2,
     "metadata": {},
     "output_type": "execute_result"
    }
   ],
   "source": [
    "get_slum_val('rio', (-22.73094444, -43.83611111))"
   ]
  },
  {
   "cell_type": "code",
   "execution_count": 34,
   "metadata": {
    "ExecuteTime": {
     "end_time": "2020-02-20T04:27:47.403571Z",
     "start_time": "2020-02-20T04:27:47.339582Z"
    }
   },
   "outputs": [
    {
     "data": {
      "text/html": [
       "<div>\n",
       "<style scoped>\n",
       "    .dataframe tbody tr th:only-of-type {\n",
       "        vertical-align: middle;\n",
       "    }\n",
       "\n",
       "    .dataframe tbody tr th {\n",
       "        vertical-align: top;\n",
       "    }\n",
       "\n",
       "    .dataframe thead th {\n",
       "        text-align: right;\n",
       "    }\n",
       "</style>\n",
       "<table border=\"1\" class=\"dataframe\">\n",
       "  <thead>\n",
       "    <tr style=\"text-align: right;\">\n",
       "      <th></th>\n",
       "      <th>address</th>\n",
       "      <th>areas</th>\n",
       "      <th>bathrooms</th>\n",
       "      <th>bedrooms</th>\n",
       "      <th>parking-spaces</th>\n",
       "      <th>zap_price_pmo</th>\n",
       "      <th>zap_price_cls</th>\n",
       "      <th>zap_price_iptu</th>\n",
       "      <th>latitude</th>\n",
       "      <th>longitude</th>\n",
       "      <th>street</th>\n",
       "      <th>neighborhood</th>\n",
       "      <th>r$_pmo</th>\n",
       "      <th>usd_pmo</th>\n",
       "    </tr>\n",
       "  </thead>\n",
       "  <tbody>\n",
       "    <tr>\n",
       "      <th>0</th>\n",
       "      <td>Rua João Barros Moreira, Recreio dos Bandeirantes</td>\n",
       "      <td>450 m²</td>\n",
       "      <td>7.0</td>\n",
       "      <td>4.0</td>\n",
       "      <td>3.0</td>\n",
       "      <td>R$ 5.000 /mês</td>\n",
       "      <td>condomínio R$ 1.242</td>\n",
       "      <td>IPTU R$ 481</td>\n",
       "      <td>-23.019739</td>\n",
       "      <td>-43.460044</td>\n",
       "      <td>Rua João Barros Moreira</td>\n",
       "      <td>Recreio dos Bandeirantes</td>\n",
       "      <td>5000</td>\n",
       "      <td>1162.23</td>\n",
       "    </tr>\n",
       "    <tr>\n",
       "      <th>1</th>\n",
       "      <td>Rua João Pinheiro, Piedade</td>\n",
       "      <td>56 m²</td>\n",
       "      <td>2.0</td>\n",
       "      <td>2.0</td>\n",
       "      <td>1.0</td>\n",
       "      <td>R$ 1.300 /mês</td>\n",
       "      <td>condomínio R$ 460</td>\n",
       "      <td>IPTU R$ 60</td>\n",
       "      <td>-22.887174</td>\n",
       "      <td>-43.304125</td>\n",
       "      <td>Rua João Pinheiro</td>\n",
       "      <td>Piedade</td>\n",
       "      <td>1300</td>\n",
       "      <td>302.18</td>\n",
       "    </tr>\n",
       "    <tr>\n",
       "      <th>2</th>\n",
       "      <td>Estrada dos Bandeirantes, Jacarepaguá</td>\n",
       "      <td>61 m²</td>\n",
       "      <td>2.0</td>\n",
       "      <td>2.0</td>\n",
       "      <td>1.0</td>\n",
       "      <td>R$ 1.380 /mês</td>\n",
       "      <td>condomínio R$ 600</td>\n",
       "      <td>IPTU R$ 89</td>\n",
       "      <td>-22.954847</td>\n",
       "      <td>-43.376590</td>\n",
       "      <td>Estrada dos Bandeirantes</td>\n",
       "      <td>Jacarepaguá</td>\n",
       "      <td>1380</td>\n",
       "      <td>320.78</td>\n",
       "    </tr>\n",
       "    <tr>\n",
       "      <th>3</th>\n",
       "      <td>Rua Mário Covas Júnior, Barra da Tijuca</td>\n",
       "      <td>97 m²</td>\n",
       "      <td>3.0</td>\n",
       "      <td>2.0</td>\n",
       "      <td>1.0</td>\n",
       "      <td>R$ 2.950 /mês</td>\n",
       "      <td>condomínio R$ 852</td>\n",
       "      <td>IPTU R$ 315</td>\n",
       "      <td>-23.005646</td>\n",
       "      <td>-43.330188</td>\n",
       "      <td>Rua Mário Covas Júnior</td>\n",
       "      <td>Barra da Tijuca</td>\n",
       "      <td>2950</td>\n",
       "      <td>685.72</td>\n",
       "    </tr>\n",
       "    <tr>\n",
       "      <th>4</th>\n",
       "      <td>Rua Coronel Paulo Malta Rezende, Barra da Tijuca</td>\n",
       "      <td>65 m²</td>\n",
       "      <td>2.0</td>\n",
       "      <td>2.0</td>\n",
       "      <td>1.0</td>\n",
       "      <td>R$ 2.400 /mês</td>\n",
       "      <td>condomínio R$ 809</td>\n",
       "      <td>IPTU R$ 218</td>\n",
       "      <td>-23.004934</td>\n",
       "      <td>-43.331217</td>\n",
       "      <td>Rua Coronel Paulo Malta Rezende</td>\n",
       "      <td>Barra da Tijuca</td>\n",
       "      <td>2400</td>\n",
       "      <td>557.87</td>\n",
       "    </tr>\n",
       "  </tbody>\n",
       "</table>\n",
       "</div>"
      ],
      "text/plain": [
       "                                             address   areas  bathrooms  \\\n",
       "0  Rua João Barros Moreira, Recreio dos Bandeirantes  450 m²        7.0   \n",
       "1                         Rua João Pinheiro, Piedade   56 m²        2.0   \n",
       "2              Estrada dos Bandeirantes, Jacarepaguá   61 m²        2.0   \n",
       "3            Rua Mário Covas Júnior, Barra da Tijuca   97 m²        3.0   \n",
       "4   Rua Coronel Paulo Malta Rezende, Barra da Tijuca   65 m²        2.0   \n",
       "\n",
       "   bedrooms  parking-spaces  zap_price_pmo        zap_price_cls  \\\n",
       "0       4.0             3.0  R$ 5.000 /mês  condomínio R$ 1.242   \n",
       "1       2.0             1.0  R$ 1.300 /mês    condomínio R$ 460   \n",
       "2       2.0             1.0  R$ 1.380 /mês    condomínio R$ 600   \n",
       "3       2.0             1.0  R$ 2.950 /mês    condomínio R$ 852   \n",
       "4       2.0             1.0  R$ 2.400 /mês    condomínio R$ 809   \n",
       "\n",
       "  zap_price_iptu   latitude  longitude                           street  \\\n",
       "0    IPTU R$ 481 -23.019739 -43.460044          Rua João Barros Moreira   \n",
       "1     IPTU R$ 60 -22.887174 -43.304125                Rua João Pinheiro   \n",
       "2     IPTU R$ 89 -22.954847 -43.376590         Estrada dos Bandeirantes   \n",
       "3    IPTU R$ 315 -23.005646 -43.330188           Rua Mário Covas Júnior   \n",
       "4    IPTU R$ 218 -23.004934 -43.331217  Rua Coronel Paulo Malta Rezende   \n",
       "\n",
       "                neighborhood  r$_pmo  usd_pmo  \n",
       "0   Recreio dos Bandeirantes    5000  1162.23  \n",
       "1                    Piedade    1300   302.18  \n",
       "2                Jacarepaguá    1380   320.78  \n",
       "3            Barra da Tijuca    2950   685.72  \n",
       "4            Barra da Tijuca    2400   557.87  "
      ]
     },
     "execution_count": 34,
     "metadata": {},
     "output_type": "execute_result"
    }
   ],
   "source": [
    "rio = pd.read_csv('../data/rio/cleaned.csv')\n",
    "rio.head()"
   ]
  },
  {
   "cell_type": "code",
   "execution_count": 35,
   "metadata": {
    "ExecuteTime": {
     "end_time": "2020-02-20T04:28:11.383412Z",
     "start_time": "2020-02-20T04:28:11.370416Z"
    }
   },
   "outputs": [],
   "source": [
    "rio.dropna(inplace=True)\n",
    "rio.reset_index(inplace=True)"
   ]
  },
  {
   "cell_type": "code",
   "execution_count": 36,
   "metadata": {
    "ExecuteTime": {
     "end_time": "2020-02-20T04:28:23.368424Z",
     "start_time": "2020-02-20T04:28:12.321204Z"
    }
   },
   "outputs": [],
   "source": [
    "temp = []\n",
    "for i in range(len(rio)):\n",
    "    temp.append(get_slum_val('rio', (rio['latitude'][i], rio['longitude'][i])))"
   ]
  },
  {
   "cell_type": "code",
   "execution_count": 39,
   "metadata": {
    "ExecuteTime": {
     "end_time": "2020-02-20T04:28:59.642236Z",
     "start_time": "2020-02-20T04:28:59.632226Z"
    }
   },
   "outputs": [],
   "source": [
    "rio['is_slum'] = temp\n",
    "rio.drop(columns = 'index', inplace = True)"
   ]
  },
  {
   "cell_type": "code",
   "execution_count": 40,
   "metadata": {
    "ExecuteTime": {
     "end_time": "2020-02-20T04:29:00.375511Z",
     "start_time": "2020-02-20T04:29:00.354536Z"
    }
   },
   "outputs": [
    {
     "data": {
      "text/html": [
       "<div>\n",
       "<style scoped>\n",
       "    .dataframe tbody tr th:only-of-type {\n",
       "        vertical-align: middle;\n",
       "    }\n",
       "\n",
       "    .dataframe tbody tr th {\n",
       "        vertical-align: top;\n",
       "    }\n",
       "\n",
       "    .dataframe thead th {\n",
       "        text-align: right;\n",
       "    }\n",
       "</style>\n",
       "<table border=\"1\" class=\"dataframe\">\n",
       "  <thead>\n",
       "    <tr style=\"text-align: right;\">\n",
       "      <th></th>\n",
       "      <th>address</th>\n",
       "      <th>areas</th>\n",
       "      <th>bathrooms</th>\n",
       "      <th>bedrooms</th>\n",
       "      <th>parking-spaces</th>\n",
       "      <th>zap_price_pmo</th>\n",
       "      <th>zap_price_cls</th>\n",
       "      <th>zap_price_iptu</th>\n",
       "      <th>latitude</th>\n",
       "      <th>longitude</th>\n",
       "      <th>street</th>\n",
       "      <th>neighborhood</th>\n",
       "      <th>r$_pmo</th>\n",
       "      <th>usd_pmo</th>\n",
       "      <th>is_slum</th>\n",
       "    </tr>\n",
       "  </thead>\n",
       "  <tbody>\n",
       "    <tr>\n",
       "      <th>0</th>\n",
       "      <td>Rua João Barros Moreira, Recreio dos Bandeirantes</td>\n",
       "      <td>450 m²</td>\n",
       "      <td>7.0</td>\n",
       "      <td>4.0</td>\n",
       "      <td>3.0</td>\n",
       "      <td>R$ 5.000 /mês</td>\n",
       "      <td>condomínio R$ 1.242</td>\n",
       "      <td>IPTU R$ 481</td>\n",
       "      <td>-23.019739</td>\n",
       "      <td>-43.460044</td>\n",
       "      <td>Rua João Barros Moreira</td>\n",
       "      <td>Recreio dos Bandeirantes</td>\n",
       "      <td>5000</td>\n",
       "      <td>1162.23</td>\n",
       "      <td>0</td>\n",
       "    </tr>\n",
       "    <tr>\n",
       "      <th>1</th>\n",
       "      <td>Rua João Pinheiro, Piedade</td>\n",
       "      <td>56 m²</td>\n",
       "      <td>2.0</td>\n",
       "      <td>2.0</td>\n",
       "      <td>1.0</td>\n",
       "      <td>R$ 1.300 /mês</td>\n",
       "      <td>condomínio R$ 460</td>\n",
       "      <td>IPTU R$ 60</td>\n",
       "      <td>-22.887174</td>\n",
       "      <td>-43.304125</td>\n",
       "      <td>Rua João Pinheiro</td>\n",
       "      <td>Piedade</td>\n",
       "      <td>1300</td>\n",
       "      <td>302.18</td>\n",
       "      <td>0</td>\n",
       "    </tr>\n",
       "    <tr>\n",
       "      <th>2</th>\n",
       "      <td>Estrada dos Bandeirantes, Jacarepaguá</td>\n",
       "      <td>61 m²</td>\n",
       "      <td>2.0</td>\n",
       "      <td>2.0</td>\n",
       "      <td>1.0</td>\n",
       "      <td>R$ 1.380 /mês</td>\n",
       "      <td>condomínio R$ 600</td>\n",
       "      <td>IPTU R$ 89</td>\n",
       "      <td>-22.954847</td>\n",
       "      <td>-43.376590</td>\n",
       "      <td>Estrada dos Bandeirantes</td>\n",
       "      <td>Jacarepaguá</td>\n",
       "      <td>1380</td>\n",
       "      <td>320.78</td>\n",
       "      <td>0</td>\n",
       "    </tr>\n",
       "    <tr>\n",
       "      <th>3</th>\n",
       "      <td>Rua Mário Covas Júnior, Barra da Tijuca</td>\n",
       "      <td>97 m²</td>\n",
       "      <td>3.0</td>\n",
       "      <td>2.0</td>\n",
       "      <td>1.0</td>\n",
       "      <td>R$ 2.950 /mês</td>\n",
       "      <td>condomínio R$ 852</td>\n",
       "      <td>IPTU R$ 315</td>\n",
       "      <td>-23.005646</td>\n",
       "      <td>-43.330188</td>\n",
       "      <td>Rua Mário Covas Júnior</td>\n",
       "      <td>Barra da Tijuca</td>\n",
       "      <td>2950</td>\n",
       "      <td>685.72</td>\n",
       "      <td>0</td>\n",
       "    </tr>\n",
       "    <tr>\n",
       "      <th>4</th>\n",
       "      <td>Rua Coronel Paulo Malta Rezende, Barra da Tijuca</td>\n",
       "      <td>65 m²</td>\n",
       "      <td>2.0</td>\n",
       "      <td>2.0</td>\n",
       "      <td>1.0</td>\n",
       "      <td>R$ 2.400 /mês</td>\n",
       "      <td>condomínio R$ 809</td>\n",
       "      <td>IPTU R$ 218</td>\n",
       "      <td>-23.004934</td>\n",
       "      <td>-43.331217</td>\n",
       "      <td>Rua Coronel Paulo Malta Rezende</td>\n",
       "      <td>Barra da Tijuca</td>\n",
       "      <td>2400</td>\n",
       "      <td>557.87</td>\n",
       "      <td>0</td>\n",
       "    </tr>\n",
       "  </tbody>\n",
       "</table>\n",
       "</div>"
      ],
      "text/plain": [
       "                                             address   areas  bathrooms  \\\n",
       "0  Rua João Barros Moreira, Recreio dos Bandeirantes  450 m²        7.0   \n",
       "1                         Rua João Pinheiro, Piedade   56 m²        2.0   \n",
       "2              Estrada dos Bandeirantes, Jacarepaguá   61 m²        2.0   \n",
       "3            Rua Mário Covas Júnior, Barra da Tijuca   97 m²        3.0   \n",
       "4   Rua Coronel Paulo Malta Rezende, Barra da Tijuca   65 m²        2.0   \n",
       "\n",
       "   bedrooms  parking-spaces  zap_price_pmo        zap_price_cls  \\\n",
       "0       4.0             3.0  R$ 5.000 /mês  condomínio R$ 1.242   \n",
       "1       2.0             1.0  R$ 1.300 /mês    condomínio R$ 460   \n",
       "2       2.0             1.0  R$ 1.380 /mês    condomínio R$ 600   \n",
       "3       2.0             1.0  R$ 2.950 /mês    condomínio R$ 852   \n",
       "4       2.0             1.0  R$ 2.400 /mês    condomínio R$ 809   \n",
       "\n",
       "  zap_price_iptu   latitude  longitude                           street  \\\n",
       "0    IPTU R$ 481 -23.019739 -43.460044          Rua João Barros Moreira   \n",
       "1     IPTU R$ 60 -22.887174 -43.304125                Rua João Pinheiro   \n",
       "2     IPTU R$ 89 -22.954847 -43.376590         Estrada dos Bandeirantes   \n",
       "3    IPTU R$ 315 -23.005646 -43.330188           Rua Mário Covas Júnior   \n",
       "4    IPTU R$ 218 -23.004934 -43.331217  Rua Coronel Paulo Malta Rezende   \n",
       "\n",
       "                neighborhood  r$_pmo  usd_pmo  is_slum  \n",
       "0   Recreio dos Bandeirantes    5000  1162.23        0  \n",
       "1                    Piedade    1300   302.18        0  \n",
       "2                Jacarepaguá    1380   320.78        0  \n",
       "3            Barra da Tijuca    2950   685.72        0  \n",
       "4            Barra da Tijuca    2400   557.87        0  "
      ]
     },
     "execution_count": 40,
     "metadata": {},
     "output_type": "execute_result"
    }
   ],
   "source": [
    "rio.head()"
   ]
  },
  {
   "cell_type": "code",
   "execution_count": 41,
   "metadata": {
    "ExecuteTime": {
     "end_time": "2020-02-20T04:29:08.289819Z",
     "start_time": "2020-02-20T04:29:08.281789Z"
    }
   },
   "outputs": [
    {
     "data": {
      "text/plain": [
       "0    3892\n",
       "1     162\n",
       "Name: is_slum, dtype: int64"
      ]
     },
     "execution_count": 41,
     "metadata": {},
     "output_type": "execute_result"
    }
   ],
   "source": [
    "rio['is_slum'].value_counts()"
   ]
  },
  {
   "cell_type": "code",
   "execution_count": 42,
   "metadata": {
    "ExecuteTime": {
     "end_time": "2020-02-20T04:29:09.656157Z",
     "start_time": "2020-02-20T04:29:09.639122Z"
    }
   },
   "outputs": [],
   "source": [
    "rio = pd.concat([rio, rio[rio['is_slum'] == 1].sample(3730, replace = True)]).reset_index()"
   ]
  },
  {
   "cell_type": "code",
   "execution_count": 43,
   "metadata": {
    "ExecuteTime": {
     "end_time": "2020-02-20T04:29:11.518096Z",
     "start_time": "2020-02-20T04:29:11.494100Z"
    }
   },
   "outputs": [
    {
     "data": {
      "text/html": [
       "<div>\n",
       "<style scoped>\n",
       "    .dataframe tbody tr th:only-of-type {\n",
       "        vertical-align: middle;\n",
       "    }\n",
       "\n",
       "    .dataframe tbody tr th {\n",
       "        vertical-align: top;\n",
       "    }\n",
       "\n",
       "    .dataframe thead th {\n",
       "        text-align: right;\n",
       "    }\n",
       "</style>\n",
       "<table border=\"1\" class=\"dataframe\">\n",
       "  <thead>\n",
       "    <tr style=\"text-align: right;\">\n",
       "      <th></th>\n",
       "      <th>address</th>\n",
       "      <th>areas</th>\n",
       "      <th>bathrooms</th>\n",
       "      <th>bedrooms</th>\n",
       "      <th>parking-spaces</th>\n",
       "      <th>zap_price_pmo</th>\n",
       "      <th>zap_price_cls</th>\n",
       "      <th>zap_price_iptu</th>\n",
       "      <th>latitude</th>\n",
       "      <th>longitude</th>\n",
       "      <th>street</th>\n",
       "      <th>neighborhood</th>\n",
       "      <th>r$_pmo</th>\n",
       "      <th>usd_pmo</th>\n",
       "      <th>is_slum</th>\n",
       "    </tr>\n",
       "  </thead>\n",
       "  <tbody>\n",
       "    <tr>\n",
       "      <th>7779</th>\n",
       "      <td>Rua Ituverava, Freguesia de Jacarepaguá</td>\n",
       "      <td>121 m²</td>\n",
       "      <td>2.0</td>\n",
       "      <td>2.0</td>\n",
       "      <td>2.0</td>\n",
       "      <td>R$ 2.950 /mês</td>\n",
       "      <td>condomínio R$ 738</td>\n",
       "      <td>IPTU R$ 204</td>\n",
       "      <td>-22.940890</td>\n",
       "      <td>-43.342256</td>\n",
       "      <td>Rua Ituverava</td>\n",
       "      <td>Freguesia de Jacarepaguá</td>\n",
       "      <td>2950</td>\n",
       "      <td>685.72</td>\n",
       "      <td>1</td>\n",
       "    </tr>\n",
       "    <tr>\n",
       "      <th>7780</th>\n",
       "      <td>Rua General Silva Pessoa, Tijuca</td>\n",
       "      <td>119 m²</td>\n",
       "      <td>2.0</td>\n",
       "      <td>3.0</td>\n",
       "      <td>2.0</td>\n",
       "      <td>R$ 2.300 /mês</td>\n",
       "      <td>condomínio R$ 990</td>\n",
       "      <td>IPTU R$ 180</td>\n",
       "      <td>-22.925340</td>\n",
       "      <td>-43.219759</td>\n",
       "      <td>Rua General Silva Pessoa</td>\n",
       "      <td>Tijuca</td>\n",
       "      <td>2300</td>\n",
       "      <td>534.63</td>\n",
       "      <td>1</td>\n",
       "    </tr>\n",
       "    <tr>\n",
       "      <th>7781</th>\n",
       "      <td>Estrada Pau-ferro, Pechincha</td>\n",
       "      <td>113 m²</td>\n",
       "      <td>3.0</td>\n",
       "      <td>3.0</td>\n",
       "      <td>2.0</td>\n",
       "      <td>R$ 3.000 /mês</td>\n",
       "      <td>condomínio R$ 630</td>\n",
       "      <td>IPTU R$ 260</td>\n",
       "      <td>-22.928988</td>\n",
       "      <td>-43.353419</td>\n",
       "      <td>Estrada Pau-ferro</td>\n",
       "      <td>Pechincha</td>\n",
       "      <td>3000</td>\n",
       "      <td>697.34</td>\n",
       "      <td>1</td>\n",
       "    </tr>\n",
       "    <tr>\n",
       "      <th>7782</th>\n",
       "      <td>Estrada do Rio Grande, Taquara</td>\n",
       "      <td>68 m²</td>\n",
       "      <td>1.0</td>\n",
       "      <td>2.0</td>\n",
       "      <td>1.0</td>\n",
       "      <td>R$ 1.100 /mês</td>\n",
       "      <td>condomínio R$ 600</td>\n",
       "      <td>IPTU R$ 30</td>\n",
       "      <td>-22.918391</td>\n",
       "      <td>-43.397146</td>\n",
       "      <td>Estrada do Rio Grande</td>\n",
       "      <td>Taquara</td>\n",
       "      <td>1100</td>\n",
       "      <td>255.69</td>\n",
       "      <td>1</td>\n",
       "    </tr>\n",
       "    <tr>\n",
       "      <th>7783</th>\n",
       "      <td>Estrada da Covanca, Tanque</td>\n",
       "      <td>74 m²</td>\n",
       "      <td>2.0</td>\n",
       "      <td>2.0</td>\n",
       "      <td>1.0</td>\n",
       "      <td>R$ 1.000 /mês</td>\n",
       "      <td>condomínio R$ 500</td>\n",
       "      <td>IPTU R$ 17</td>\n",
       "      <td>-22.914916</td>\n",
       "      <td>-43.346668</td>\n",
       "      <td>Estrada da Covanca</td>\n",
       "      <td>Tanque</td>\n",
       "      <td>1000</td>\n",
       "      <td>232.45</td>\n",
       "      <td>1</td>\n",
       "    </tr>\n",
       "  </tbody>\n",
       "</table>\n",
       "</div>"
      ],
      "text/plain": [
       "                                      address   areas  bathrooms  bedrooms  \\\n",
       "7779  Rua Ituverava, Freguesia de Jacarepaguá  121 m²        2.0       2.0   \n",
       "7780         Rua General Silva Pessoa, Tijuca  119 m²        2.0       3.0   \n",
       "7781             Estrada Pau-ferro, Pechincha  113 m²        3.0       3.0   \n",
       "7782           Estrada do Rio Grande, Taquara   68 m²        1.0       2.0   \n",
       "7783               Estrada da Covanca, Tanque   74 m²        2.0       2.0   \n",
       "\n",
       "      parking-spaces  zap_price_pmo      zap_price_cls zap_price_iptu  \\\n",
       "7779             2.0  R$ 2.950 /mês  condomínio R$ 738    IPTU R$ 204   \n",
       "7780             2.0  R$ 2.300 /mês  condomínio R$ 990    IPTU R$ 180   \n",
       "7781             2.0  R$ 3.000 /mês  condomínio R$ 630    IPTU R$ 260   \n",
       "7782             1.0  R$ 1.100 /mês  condomínio R$ 600     IPTU R$ 30   \n",
       "7783             1.0  R$ 1.000 /mês  condomínio R$ 500     IPTU R$ 17   \n",
       "\n",
       "       latitude  longitude                    street  \\\n",
       "7779 -22.940890 -43.342256             Rua Ituverava   \n",
       "7780 -22.925340 -43.219759  Rua General Silva Pessoa   \n",
       "7781 -22.928988 -43.353419         Estrada Pau-ferro   \n",
       "7782 -22.918391 -43.397146     Estrada do Rio Grande   \n",
       "7783 -22.914916 -43.346668        Estrada da Covanca   \n",
       "\n",
       "                   neighborhood  r$_pmo  usd_pmo  is_slum  \n",
       "7779   Freguesia de Jacarepaguá    2950   685.72        1  \n",
       "7780                     Tijuca    2300   534.63        1  \n",
       "7781                  Pechincha    3000   697.34        1  \n",
       "7782                    Taquara    1100   255.69        1  \n",
       "7783                     Tanque    1000   232.45        1  "
      ]
     },
     "execution_count": 43,
     "metadata": {},
     "output_type": "execute_result"
    }
   ],
   "source": [
    "rio.drop(columns='index', inplace=True)\n",
    "rio.tail()"
   ]
  },
  {
   "cell_type": "code",
   "execution_count": 44,
   "metadata": {
    "ExecuteTime": {
     "end_time": "2020-02-20T04:29:12.441422Z",
     "start_time": "2020-02-20T04:29:12.433389Z"
    }
   },
   "outputs": [
    {
     "data": {
      "text/plain": [
       "1    3892\n",
       "0    3892\n",
       "Name: is_slum, dtype: int64"
      ]
     },
     "execution_count": 44,
     "metadata": {},
     "output_type": "execute_result"
    }
   ],
   "source": [
    "rio['is_slum'].value_counts()"
   ]
  },
  {
   "cell_type": "code",
   "execution_count": 45,
   "metadata": {
    "ExecuteTime": {
     "end_time": "2020-02-20T04:29:14.216336Z",
     "start_time": "2020-02-20T04:29:14.213319Z"
    }
   },
   "outputs": [],
   "source": [
    "# rio = pd.get_dummies(rio, columns=['street', 'neighborhood'], drop_first=True)"
   ]
  },
  {
   "cell_type": "code",
   "execution_count": 46,
   "metadata": {
    "ExecuteTime": {
     "end_time": "2020-02-20T04:29:14.790506Z",
     "start_time": "2020-02-20T04:29:14.771529Z"
    }
   },
   "outputs": [
    {
     "data": {
      "text/html": [
       "<div>\n",
       "<style scoped>\n",
       "    .dataframe tbody tr th:only-of-type {\n",
       "        vertical-align: middle;\n",
       "    }\n",
       "\n",
       "    .dataframe tbody tr th {\n",
       "        vertical-align: top;\n",
       "    }\n",
       "\n",
       "    .dataframe thead th {\n",
       "        text-align: right;\n",
       "    }\n",
       "</style>\n",
       "<table border=\"1\" class=\"dataframe\">\n",
       "  <thead>\n",
       "    <tr style=\"text-align: right;\">\n",
       "      <th></th>\n",
       "      <th>address</th>\n",
       "      <th>areas</th>\n",
       "      <th>bathrooms</th>\n",
       "      <th>bedrooms</th>\n",
       "      <th>parking-spaces</th>\n",
       "      <th>zap_price_pmo</th>\n",
       "      <th>zap_price_cls</th>\n",
       "      <th>zap_price_iptu</th>\n",
       "      <th>latitude</th>\n",
       "      <th>longitude</th>\n",
       "      <th>street</th>\n",
       "      <th>neighborhood</th>\n",
       "      <th>r$_pmo</th>\n",
       "      <th>usd_pmo</th>\n",
       "      <th>is_slum</th>\n",
       "    </tr>\n",
       "  </thead>\n",
       "  <tbody>\n",
       "    <tr>\n",
       "      <th>0</th>\n",
       "      <td>Rua João Barros Moreira, Recreio dos Bandeirantes</td>\n",
       "      <td>450 m²</td>\n",
       "      <td>7.0</td>\n",
       "      <td>4.0</td>\n",
       "      <td>3.0</td>\n",
       "      <td>R$ 5.000 /mês</td>\n",
       "      <td>condomínio R$ 1.242</td>\n",
       "      <td>IPTU R$ 481</td>\n",
       "      <td>-23.019739</td>\n",
       "      <td>-43.460044</td>\n",
       "      <td>Rua João Barros Moreira</td>\n",
       "      <td>Recreio dos Bandeirantes</td>\n",
       "      <td>5000</td>\n",
       "      <td>1162.23</td>\n",
       "      <td>0</td>\n",
       "    </tr>\n",
       "    <tr>\n",
       "      <th>1</th>\n",
       "      <td>Rua João Pinheiro, Piedade</td>\n",
       "      <td>56 m²</td>\n",
       "      <td>2.0</td>\n",
       "      <td>2.0</td>\n",
       "      <td>1.0</td>\n",
       "      <td>R$ 1.300 /mês</td>\n",
       "      <td>condomínio R$ 460</td>\n",
       "      <td>IPTU R$ 60</td>\n",
       "      <td>-22.887174</td>\n",
       "      <td>-43.304125</td>\n",
       "      <td>Rua João Pinheiro</td>\n",
       "      <td>Piedade</td>\n",
       "      <td>1300</td>\n",
       "      <td>302.18</td>\n",
       "      <td>0</td>\n",
       "    </tr>\n",
       "  </tbody>\n",
       "</table>\n",
       "</div>"
      ],
      "text/plain": [
       "                                             address   areas  bathrooms  \\\n",
       "0  Rua João Barros Moreira, Recreio dos Bandeirantes  450 m²        7.0   \n",
       "1                         Rua João Pinheiro, Piedade   56 m²        2.0   \n",
       "\n",
       "   bedrooms  parking-spaces  zap_price_pmo        zap_price_cls  \\\n",
       "0       4.0             3.0  R$ 5.000 /mês  condomínio R$ 1.242   \n",
       "1       2.0             1.0  R$ 1.300 /mês    condomínio R$ 460   \n",
       "\n",
       "  zap_price_iptu   latitude  longitude                   street  \\\n",
       "0    IPTU R$ 481 -23.019739 -43.460044  Rua João Barros Moreira   \n",
       "1     IPTU R$ 60 -22.887174 -43.304125        Rua João Pinheiro   \n",
       "\n",
       "                neighborhood  r$_pmo  usd_pmo  is_slum  \n",
       "0   Recreio dos Bandeirantes    5000  1162.23        0  \n",
       "1                    Piedade    1300   302.18        0  "
      ]
     },
     "execution_count": 46,
     "metadata": {},
     "output_type": "execute_result"
    }
   ],
   "source": [
    "rio.head(2)"
   ]
  },
  {
   "cell_type": "code",
   "execution_count": 47,
   "metadata": {
    "ExecuteTime": {
     "end_time": "2020-02-20T04:29:15.527835Z",
     "start_time": "2020-02-20T04:29:15.513854Z"
    }
   },
   "outputs": [
    {
     "data": {
      "text/plain": [
       "0       450\n",
       "1        56\n",
       "2        61\n",
       "3        97\n",
       "4        65\n",
       "       ... \n",
       "7779    121\n",
       "7780    119\n",
       "7781    113\n",
       "7782     68\n",
       "7783     74\n",
       "Name: areas, Length: 7784, dtype: int64"
      ]
     },
     "execution_count": 47,
     "metadata": {},
     "output_type": "execute_result"
    }
   ],
   "source": [
    "rio['areas'] = [int(val[:-3]) for val in rio['areas']]\n",
    "rio['areas']"
   ]
  },
  {
   "cell_type": "code",
   "execution_count": 48,
   "metadata": {
    "ExecuteTime": {
     "end_time": "2020-02-20T04:29:16.385026Z",
     "start_time": "2020-02-20T04:29:16.378998Z"
    }
   },
   "outputs": [
    {
     "data": {
      "text/plain": [
       "['address',\n",
       " 'areas',\n",
       " 'bathrooms',\n",
       " 'bedrooms',\n",
       " 'parking-spaces',\n",
       " 'zap_price_pmo',\n",
       " 'zap_price_cls',\n",
       " 'zap_price_iptu',\n",
       " 'latitude',\n",
       " 'longitude',\n",
       " 'street',\n",
       " 'neighborhood',\n",
       " 'r$_pmo',\n",
       " 'usd_pmo',\n",
       " 'is_slum']"
      ]
     },
     "execution_count": 48,
     "metadata": {},
     "output_type": "execute_result"
    }
   ],
   "source": [
    "list(rio.columns)"
   ]
  },
  {
   "cell_type": "code",
   "execution_count": 49,
   "metadata": {
    "ExecuteTime": {
     "end_time": "2020-02-20T04:29:17.277364Z",
     "start_time": "2020-02-20T04:29:17.270346Z"
    }
   },
   "outputs": [],
   "source": [
    "X = rio.drop(columns=['is_slum','address', 'zap_price_pmo', 'zap_price_cls', 'zap_price_iptu', \n",
    "                     'latitude', 'longitude', 'street', 'neighborhood'])\n",
    "y = rio['is_slum']"
   ]
  },
  {
   "cell_type": "code",
   "execution_count": 50,
   "metadata": {
    "ExecuteTime": {
     "end_time": "2020-02-20T04:29:18.068995Z",
     "start_time": "2020-02-20T04:29:18.062981Z"
    }
   },
   "outputs": [
    {
     "data": {
      "text/plain": [
       "Index(['areas', 'bathrooms', 'bedrooms', 'parking-spaces', 'r$_pmo',\n",
       "       'usd_pmo'],\n",
       "      dtype='object')"
      ]
     },
     "execution_count": 50,
     "metadata": {},
     "output_type": "execute_result"
    }
   ],
   "source": [
    "X.columns"
   ]
  },
  {
   "cell_type": "code",
   "execution_count": 51,
   "metadata": {
    "ExecuteTime": {
     "end_time": "2020-02-20T04:29:18.790982Z",
     "start_time": "2020-02-20T04:29:18.782939Z"
    }
   },
   "outputs": [],
   "source": [
    "X_train, X_test, y_train, y_test = train_test_split(X, y)"
   ]
  },
  {
   "cell_type": "code",
   "execution_count": 52,
   "metadata": {
    "ExecuteTime": {
     "end_time": "2020-02-20T04:29:19.439757Z",
     "start_time": "2020-02-20T04:29:19.430757Z"
    }
   },
   "outputs": [
    {
     "data": {
      "text/plain": [
       "LinearRegression(copy_X=True, fit_intercept=True, n_jobs=None, normalize=False)"
      ]
     },
     "execution_count": 52,
     "metadata": {},
     "output_type": "execute_result"
    }
   ],
   "source": [
    "lr = LinearRegression()\n",
    "lr.fit(X_train, y_train)"
   ]
  },
  {
   "cell_type": "code",
   "execution_count": 53,
   "metadata": {
    "ExecuteTime": {
     "end_time": "2020-02-20T04:29:20.169840Z",
     "start_time": "2020-02-20T04:29:20.158842Z"
    }
   },
   "outputs": [
    {
     "data": {
      "text/plain": [
       "(0.12248268490124069, 0.11729502192502816)"
      ]
     },
     "execution_count": 53,
     "metadata": {},
     "output_type": "execute_result"
    }
   ],
   "source": [
    "lr.score(X_train, y_train), lr.score(X_test, y_test)"
   ]
  },
  {
   "cell_type": "code",
   "execution_count": 54,
   "metadata": {
    "ExecuteTime": {
     "end_time": "2020-02-20T04:29:21.526076Z",
     "start_time": "2020-02-20T04:29:21.145036Z"
    }
   },
   "outputs": [
    {
     "data": {
      "text/plain": [
       "RandomForestClassifier(bootstrap=True, ccp_alpha=0.0, class_weight=None,\n",
       "                       criterion='gini', max_depth=None, max_features='auto',\n",
       "                       max_leaf_nodes=None, max_samples=None,\n",
       "                       min_impurity_decrease=0.0, min_impurity_split=None,\n",
       "                       min_samples_leaf=1, min_samples_split=2,\n",
       "                       min_weight_fraction_leaf=0.0, n_estimators=100,\n",
       "                       n_jobs=None, oob_score=False, random_state=None,\n",
       "                       verbose=0, warm_start=False)"
      ]
     },
     "execution_count": 54,
     "metadata": {},
     "output_type": "execute_result"
    }
   ],
   "source": [
    "rf = RandomForestClassifier()\n",
    "rf.fit(X_train, y_train)"
   ]
  },
  {
   "cell_type": "code",
   "execution_count": 55,
   "metadata": {
    "ExecuteTime": {
     "end_time": "2020-02-20T04:29:22.429708Z",
     "start_time": "2020-02-20T04:29:22.290680Z"
    }
   },
   "outputs": [
    {
     "data": {
      "text/plain": [
       "(0.9874957177115451, 0.9758478931140802)"
      ]
     },
     "execution_count": 55,
     "metadata": {},
     "output_type": "execute_result"
    }
   ],
   "source": [
    "rf.score(X_train, y_train), rf.score(X_test, y_test)"
   ]
  },
  {
   "cell_type": "code",
   "execution_count": 56,
   "metadata": {
    "ExecuteTime": {
     "end_time": "2020-02-20T04:29:23.860281Z",
     "start_time": "2020-02-20T04:29:23.756289Z"
    }
   },
   "outputs": [
    {
     "data": {
      "text/plain": [
       "3024"
      ]
     },
     "execution_count": 56,
     "metadata": {},
     "output_type": "execute_result"
    }
   ],
   "source": [
    "rf.predict(X_train).sum()"
   ]
  },
  {
   "cell_type": "code",
   "execution_count": null,
   "metadata": {},
   "outputs": [],
   "source": []
  }
 ],
 "metadata": {
  "kernelspec": {
   "display_name": "Python 3",
   "language": "python",
   "name": "python3"
  },
  "language_info": {
   "codemirror_mode": {
    "name": "ipython",
    "version": 3
   },
   "file_extension": ".py",
   "mimetype": "text/x-python",
   "name": "python",
   "nbconvert_exporter": "python",
   "pygments_lexer": "ipython3",
   "version": "3.7.6"
  }
 },
 "nbformat": 4,
 "nbformat_minor": 4
}
