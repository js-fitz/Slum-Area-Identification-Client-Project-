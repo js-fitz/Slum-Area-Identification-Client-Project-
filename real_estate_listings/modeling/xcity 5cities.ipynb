{
 "cells": [
  {
   "cell_type": "code",
   "execution_count": 70,
   "metadata": {},
   "outputs": [],
   "source": [
    "import numpy as np\n",
    "import pandas as pd\n",
    "import seaborn as sns\n",
    "import matplotlib.pyplot as plt\n",
    "sns.set()"
   ]
  },
  {
   "cell_type": "code",
   "execution_count": 71,
   "metadata": {},
   "outputs": [],
   "source": [
    "rio = pd.read_csv('../classifying/rio_normalized.csv')\n",
    "mumbai = pd.read_csv('../classifying/mumbai_normalized.csv')\n",
    "hyderabad = pd.read_csv('../classifying/hyderabad_normalized.csv')\n",
    "chennai = pd.read_csv('../classifying/chennai_normalized.csv')\n",
    "delhi = pd.read_csv('../classifying/delhi_normalized.csv')"
   ]
  },
  {
   "cell_type": "markdown",
   "metadata": {},
   "source": [
    "## Bootstrapping"
   ]
  },
  {
   "cell_type": "code",
   "execution_count": 72,
   "metadata": {},
   "outputs": [],
   "source": [
    "def bootstrap(df):\n",
    "    print(df.isna().sum().sum(), 'nans dropped')\n",
    "    df.dropna(subset=['price', 'class'], inplace=True)\n",
    "    out = pd.concat([df, df[df['class'] == 1].sample(\n",
    "                     df['class'].value_counts()[0] - df['class'].value_counts()[1],\n",
    "                     replace = True)]).reset_index().drop(columns='index')\n",
    "    print(len(out)-len(df), 'rows added')\n",
    "    print('')\n",
    "    return out"
   ]
  },
  {
   "cell_type": "code",
   "execution_count": 73,
   "metadata": {},
   "outputs": [
    {
     "name": "stdout",
     "output_type": "stream",
     "text": [
      "2319 nans dropped\n",
      "6858 rows added\n",
      "\n",
      "53 nans dropped\n",
      "22426 rows added\n",
      "\n",
      "739 nans dropped\n",
      "2113 rows added\n",
      "\n",
      "2420 nans dropped\n",
      "1996 rows added\n",
      "\n",
      "928 nans dropped\n",
      "774 rows added\n",
      "\n"
     ]
    }
   ],
   "source": [
    "rio = bootstrap(rio)\n",
    "mumbai = bootstrap(mumbai)\n",
    "hyderabad = bootstrap(hyderabad)\n",
    "chennai = bootstrap(chennai)\n",
    "delhi = bootstrap(delhi)"
   ]
  },
  {
   "cell_type": "markdown",
   "metadata": {},
   "source": [
    "## modeling"
   ]
  },
  {
   "cell_type": "code",
   "execution_count": 84,
   "metadata": {},
   "outputs": [],
   "source": [
    "from sklearn.linear_model import LogisticRegression\n",
    "from sklearn.ensemble import AdaBoostClassifier\n",
    "from sklearn.model_selection import train_test_split"
   ]
  },
  {
   "cell_type": "code",
   "execution_count": 91,
   "metadata": {},
   "outputs": [],
   "source": [
    "def xcity_pred(train, test):\n",
    "    \n",
    "    \n",
    "    if train.equals(test):\n",
    "        x = train[['price']]\n",
    "        y = train['class']\n",
    "        x_train, x_test, y_train, y_test = train_test_split(x, y, )\n",
    "    else:\n",
    "        x_train = train[['price']]\n",
    "        y_train = train['class']\n",
    "        x_test = test[['price']]\n",
    "        y_test = test['class']\n",
    "        \n",
    "    rf = RandomForestClassifier(n_estimators=15)\n",
    "    rf.fit(x_train, y_train)\n",
    "    print('train:', round(rf.score(x_train, y_train), 4), '| test:', round(rf.score(x_test, y_test),4))\n",
    "    "
   ]
  },
  {
   "cell_type": "code",
   "execution_count": 92,
   "metadata": {},
   "outputs": [
    {
     "name": "stdout",
     "output_type": "stream",
     "text": [
      "train: rio\n",
      "test on rio:\n",
      "train: 0.7264 | test: 0.7177\n",
      "test on mumbai:\n",
      "train: 0.725 | test: 0.4689\n",
      "test on hyderabad:\n",
      "train: 0.725 | test: 0.4896\n",
      "test on chennai:\n",
      "train: 0.7249 | test: 0.5012\n",
      "test on delhi:\n",
      "train: 0.7249 | test: 0.4752\n",
      "\n",
      "train: mumbai\n",
      "test on rio:\n",
      "train: 0.7405 | test: 0.4746\n",
      "test on mumbai:\n",
      "train: 0.74 | test: 0.7332\n",
      "test on hyderabad:\n",
      "train: 0.7405 | test: 0.4868\n",
      "test on chennai:\n",
      "train: 0.7406 | test: 0.5479\n",
      "test on delhi:\n",
      "train: 0.7405 | test: 0.4881\n",
      "\n",
      "train: hyderabad\n",
      "test on rio:\n",
      "train: 0.7086 | test: 0.5\n",
      "test on mumbai:\n",
      "train: 0.7086 | test: 0.5086\n",
      "test on hyderabad:\n",
      "train: 0.7135 | test: 0.6725\n",
      "test on chennai:\n",
      "train: 0.7086 | test: 0.5\n",
      "test on delhi:\n",
      "train: 0.7086 | test: 0.5\n",
      "\n",
      "train: chennai\n",
      "test on rio:\n",
      "train: 0.7236 | test: 0.5179\n",
      "test on mumbai:\n",
      "train: 0.7236 | test: 0.5101\n",
      "test on hyderabad:\n",
      "train: 0.7236 | test: 0.4988\n",
      "test on chennai:\n",
      "train: 0.7277 | test: 0.7074\n",
      "test on delhi:\n",
      "train: 0.7236 | test: 0.5054\n",
      "\n",
      "train: delhi\n",
      "test on rio:\n",
      "train: 0.6386 | test: 0.4798\n",
      "test on mumbai:\n",
      "train: 0.6376 | test: 0.4514\n",
      "test on hyderabad:\n",
      "train: 0.6394 | test: 0.4317\n",
      "test on chennai:\n",
      "train: 0.6383 | test: 0.4618\n",
      "test on delhi:\n",
      "train: 0.6427 | test: 0.5876\n",
      "\n"
     ]
    }
   ],
   "source": [
    "cities = {'rio': rio, 'mumbai': mumbai, 'hyderabad': hyderabad, 'chennai': chennai, 'delhi': delhi}\n",
    "\n",
    "for train_name, train_df in cities.items():\n",
    "    print('train:', train_name)\n",
    "    for test_name, test_df in cities.items():\n",
    "        print(f'test on {test_name}:')\n",
    "        xcity_pred(train_df, test_df)\n",
    "    print('')"
   ]
  },
  {
   "cell_type": "code",
   "execution_count": null,
   "metadata": {},
   "outputs": [],
   "source": []
  },
  {
   "cell_type": "code",
   "execution_count": null,
   "metadata": {},
   "outputs": [],
   "source": []
  }
 ],
 "metadata": {
  "kernelspec": {
   "display_name": "Python 3",
   "language": "python",
   "name": "python3"
  },
  "language_info": {
   "codemirror_mode": {
    "name": "ipython",
    "version": 3
   },
   "file_extension": ".py",
   "mimetype": "text/x-python",
   "name": "python",
   "nbconvert_exporter": "python",
   "pygments_lexer": "ipython3",
   "version": "3.7.5"
  }
 },
 "nbformat": 4,
 "nbformat_minor": 2
}
