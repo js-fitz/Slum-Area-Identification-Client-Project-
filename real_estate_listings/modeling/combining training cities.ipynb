{
 "cells": [
  {
   "cell_type": "code",
   "execution_count": 124,
   "metadata": {},
   "outputs": [],
   "source": [
    "import numpy as np\n",
    "import pandas as pd\n",
    "import seaborn as sns\n",
    "import matplotlib.pyplot as plt\n",
    "from sklearn.preprocessing import StandardScaler\n",
    "from sklearn.ensemble import RandomForestClassifier\n",
    "from sklearn.model_selection import train_test_split\n",
    "from sklearn.metrics import confusion_matrix\n",
    "sns.set()"
   ]
  },
  {
   "cell_type": "code",
   "execution_count": 125,
   "metadata": {},
   "outputs": [],
   "source": [
    "%%capture\n",
    "from tqdm.notebook import tqdm\n",
    "tqdm.pandas()"
   ]
  },
  {
   "cell_type": "code",
   "execution_count": 126,
   "metadata": {},
   "outputs": [],
   "source": [
    "rio = pd.read_csv('../classifying/rio_normalized.csv')\n",
    "mumbai = pd.read_csv('../classifying/mumbai_normalized.csv')\n",
    "hyderabad = pd.read_csv('../classifying/hyderabad_normalized.csv')\n",
    "chennai = pd.read_csv('../classifying/chennai_normalized.csv')\n",
    "delhi = pd.read_csv('../classifying/delhi_normalized.csv')"
   ]
  },
  {
   "cell_type": "code",
   "execution_count": 127,
   "metadata": {},
   "outputs": [],
   "source": [
    "cities = {'rio': rio, 'mumbai': mumbai, 'hyderabad': hyderabad, 'chennai': chennai, 'delhi': delhi}"
   ]
  },
  {
   "cell_type": "markdown",
   "metadata": {},
   "source": [
    "### scale prices"
   ]
  },
  {
   "cell_type": "code",
   "execution_count": 128,
   "metadata": {},
   "outputs": [],
   "source": [
    "ss = StandardScaler()\n",
    "def scale_prices(prices):\n",
    "    return ss.fit_transform(prices)\n",
    "\n",
    "for city_name, city_df in cities.items():    \n",
    "    city_df['price'] = scale_prices(city_df[['price']])  # scale price\n",
    "    city_df['city'] = city_name                          # add 'city' label"
   ]
  },
  {
   "cell_type": "markdown",
   "metadata": {},
   "source": [
    "### combine cities"
   ]
  },
  {
   "cell_type": "code",
   "execution_count": 129,
   "metadata": {},
   "outputs": [],
   "source": [
    "combined = pd.DataFrame()\n",
    "for city in cities.values():\n",
    "    combined = pd.concat([combined, city], sort=False)"
   ]
  },
  {
   "cell_type": "markdown",
   "metadata": {},
   "source": [
    "### bootstrap"
   ]
  },
  {
   "cell_type": "code",
   "execution_count": 130,
   "metadata": {},
   "outputs": [],
   "source": [
    "def bootstrap(df):\n",
    "    df.dropna(subset=['price', 'class'], inplace=True)\n",
    "    return pd.concat([df, df[df['class'] == 1].sample(\n",
    "                      df['class'].value_counts()[0] - df['class'].value_counts()[1], # calc n_samples\n",
    "                      replace = True)]).reset_index().drop(columns='index')\n",
    "\n",
    "combined = bootstrap(combined)\n",
    "\n",
    "rio = bootstrap(rio)\n",
    "mumbai = bootstrap(mumbai)\n",
    "hyderabad = bootstrap(hyderabad)\n",
    "delhi = bootstrap(delhi)\n",
    "chennai = bootstrap(chennai)\n",
    "cities = {'rio': rio, 'mumbai': mumbai, 'hyderabad': hyderabad, 'chennai': chennai, 'delhi': delhi}"
   ]
  },
  {
   "cell_type": "markdown",
   "metadata": {},
   "source": [
    "### export"
   ]
  },
  {
   "cell_type": "code",
   "execution_count": 131,
   "metadata": {},
   "outputs": [],
   "source": [
    "combined.to_csv('combined.csv', index=False)"
   ]
  },
  {
   "cell_type": "markdown",
   "metadata": {},
   "source": [
    "# model"
   ]
  },
  {
   "cell_type": "code",
   "execution_count": 132,
   "metadata": {},
   "outputs": [],
   "source": [
    "def ScoreXCity(city, preds=False):\n",
    "    # define train XY\n",
    "    train_df = combined[combined['city']!=city]\n",
    "    x_train = train_df[['price']]\n",
    "    y_train = train_df['class']\n",
    "    \n",
    "    # define test XY\n",
    "    test_df = cities[city]\n",
    "    x_test = test_df[['price']]\n",
    "    y_test = test_df['class']\n",
    "    \n",
    "    # fit and score RF\n",
    "    rf = RandomForestClassifier(n_estimators=20)\n",
    "    rf.fit(x_train, y_train)\n",
    "    if preds==True:\n",
    "        return rf.predict(x_test)\n",
    "    return round(rf.score(x_train, y_train),4), round(rf.score(x_test, y_test),4)"
   ]
  },
  {
   "cell_type": "code",
   "execution_count": 133,
   "metadata": {},
   "outputs": [
    {
     "name": "stdout",
     "output_type": "stream",
     "text": [
      "Test on rio: 0.5058\n",
      "Test on mumbai: 0.5095\n",
      "Test on hyderabad: 0.4721\n",
      "Test on chennai: 0.4777\n",
      "Test on delhi: 0.5115\n"
     ]
    }
   ],
   "source": [
    "# run x-tests\n",
    "for city in cities.keys():\n",
    "    train_score, test_score = ScoreXCity(city)\n",
    "    print(f'Test on {city}: {test_score}')"
   ]
  },
  {
   "cell_type": "markdown",
   "metadata": {},
   "source": [
    "### for tableau..."
   ]
  },
  {
   "cell_type": "code",
   "execution_count": 134,
   "metadata": {},
   "outputs": [
    {
     "data": {
      "text/plain": [
       "array([[1874, 1976],\n",
       "       [ 293,  191]])"
      ]
     },
     "execution_count": 134,
     "metadata": {},
     "output_type": "execute_result"
    }
   ],
   "source": [
    "hyderabad['pred'] = ScoreXCity('hyderabad', preds=True)\n",
    "confusion_matrix(hyderabad['pred'], hyderabad['class'])"
   ]
  },
  {
   "cell_type": "code",
   "execution_count": 136,
   "metadata": {},
   "outputs": [],
   "source": [
    "def parse_lat(x):\n",
    "    try: return '-'+'.'.join(re.findall(r'\\d+', x.split(',')[0]))\n",
    "    except: return np.nan\n",
    "def parse_long(x):\n",
    "    try: return '-'+'.'.join(re.findall(r'\\d+', x.split(',')[1]))\n",
    "    except: return np.nan"
   ]
  },
  {
   "cell_type": "code",
   "execution_count": null,
   "metadata": {},
   "outputs": [],
   "source": []
  }
 ],
 "metadata": {
  "kernelspec": {
   "display_name": "Python 3",
   "language": "python",
   "name": "python3"
  },
  "language_info": {
   "codemirror_mode": {
    "name": "ipython",
    "version": 3
   },
   "file_extension": ".py",
   "mimetype": "text/x-python",
   "name": "python",
   "nbconvert_exporter": "python",
   "pygments_lexer": "ipython3",
   "version": "3.7.5"
  }
 },
 "nbformat": 4,
 "nbformat_minor": 2
}
